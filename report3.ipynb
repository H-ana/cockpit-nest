{
 "cells": [
  {
   "cell_type": "code",
   "execution_count": 1,
   "metadata": {},
   "outputs": [],
   "source": [
    "import json\n",
    "from kafka import KafkaConsumer\n",
    "from pyspark import SparkConf, SparkContext\n",
    "from pyspark.sql import SparkSession\n",
    "from datetime import datetime, timedelta\n",
    "from pyspark.sql.functions import from_json, col, when\n",
    "from pyspark.sql.types import StructType, StructField, StringType, IntegerType, TimestampType\n",
    "from pyspark.sql.functions import to_timestamp, from_unixtime, unix_timestamp\n",
    "from pymongo import MongoClient\n",
    "from pyspark.sql.functions import max, min, avg\n",
    "from pyspark.sql.window import Window"
   ]
  },
  {
   "cell_type": "code",
   "execution_count": 2,
   "metadata": {},
   "outputs": [
    {
     "name": "stdout",
     "output_type": "stream",
     "text": [
      "23/01/12 16:29:18 WARN Utils: Your hostname, user-hp-pavilion-gaming-laptop-15-ec2xxx resolves to a loopback address: 127.0.1.1; using 192.168.184.92 instead (on interface wlo1)\n",
      "23/01/12 16:29:18 WARN Utils: Set SPARK_LOCAL_IP if you need to bind to another address\n"
     ]
    },
    {
     "name": "stderr",
     "output_type": "stream",
     "text": [
      "Setting default log level to \"WARN\".\n",
      "To adjust logging level use sc.setLogLevel(newLevel). For SparkR, use setLogLevel(newLevel).\n"
     ]
    },
    {
     "name": "stdout",
     "output_type": "stream",
     "text": [
      "23/01/12 16:29:19 WARN NativeCodeLoader: Unable to load native-hadoop library for your platform... using builtin-java classes where applicable\n"
     ]
    }
   ],
   "source": [
    "conf = SparkConf().setAppName(\"TemperatureProcessing\")\n",
    "sc = SparkContext(conf=conf)\n",
    "spark = SparkSession(sc)\n"
   ]
  },
  {
   "cell_type": "code",
   "execution_count": 3,
   "metadata": {},
   "outputs": [],
   "source": [
    "kafkaParams = {\n",
    "    \"bootstrap_servers\": \"ec2-65-0-72-75.ap-south-1.compute.amazonaws.com:9092\"}\n",
    "topic = \"IOTTemperatureStream01\"\n"
   ]
  },
  {
   "cell_type": "code",
   "execution_count": 4,
   "metadata": {},
   "outputs": [],
   "source": [
    "consumer = KafkaConsumer(topic, **kafkaParams)\n"
   ]
  },
  {
   "cell_type": "code",
   "execution_count": 5,
   "metadata": {},
   "outputs": [],
   "source": [
    "df = spark.createDataFrame(spark.sparkContext.emptyRDD(), schema=StructType(\n",
    "    [StructField(\"lane_number\", StringType(), True),\n",
    "        StructField(\"plant_name\", StringType(), True),\n",
    "        StructField(\"temperature\", IntegerType(), True),\n",
    "        StructField(\"timestamp\", TimestampType(), True),\n",
    "        StructField(\"component_type\", StringType(), True),\n",
    "        StructField(\"component_manufacturer\", StringType(), True),\n",
    "     ])\n",
    ")\n"
   ]
  },
  {
   "cell_type": "code",
   "execution_count": 6,
   "metadata": {},
   "outputs": [],
   "source": [
    "def filterData(dataframe):\n",
    "    last_10_minutes = datetime.now() - timedelta(minutes=10)\n",
    "    last_30_minutes= datetime.now() - timedelta(minutes=30)\n",
    "    filtered_max_temp_data = dataframe.filter(dataframe.timestamp > last_30_minutes)\n",
    "    filtered_data = dataframe.filter(dataframe.timestamp > last_10_minutes)\n",
    "    filtered_data = filtered_data.filter(col(\"temperature\") > 50)\n",
    "    component_counts = filtered_data.groupBy(\"component_type\").count()\n",
    "    highest_temp_per_lane = filtered_data.groupBy(\"lane_number\", \"component_type\").agg(max(\"temperature\").alias(\"Max Temp\"))\n",
    "    # Sort the results by lane and maximum temperature in descending order\n",
    "    highest_temp_per_lane = highest_temp_per_lane.sort(\"lane_number\", \"Max Temp\", ascending=[True, False])\n",
    "\n",
    "\n",
    "    # Create window partitions on lane_number and component_type\n",
    "    window = Window.partitionBy(\"lane_number\", \"component_type\")\n",
    "\n",
    "    # Compute the maximum, minimum, and average temperature for each component type in each lane\n",
    "    temp_stats = filtered_max_temp_data.select(\"*\", max(\"temperature\").over(window).alias(\"Max Temp\"), min(\"temperature\").over(window).alias(\"Min Temp\"), avg(\"temperature\").over(window).alias(\"Avg Temp\"))\n",
    "\n",
    "    component_counts.show()\n",
    "    highest_temp_per_lane.show()\n",
    "    temp_stats.show()"
   ]
  },
  {
   "cell_type": "code",
   "execution_count": 7,
   "metadata": {},
   "outputs": [],
   "source": [
    "def process(rdd):\n",
    "    print(rdd)\n",
    "    global df\n",
    "    data = spark.read.json(rdd)\n",
    "    data = data.filter(data[\"component_info\"].isNotNull())\n",
    "    data = data.filter(data[\"timestamp\"].isNotNull())\n",
    "    if(data.count() > 0):\n",
    "        data = data.withColumn(\"timestamp\", when(col(\"timestamp\").cast(\"double\").isNotNull(\n",
    "        ), col(\"timestamp\").cast(\"double\").cast(\"timestamp\")).otherwise(col(\"timestamp\")))\n",
    "        data = data.withColumn(\"component_manufacturer\",\n",
    "                               data[\"component_info\"][\"component_manufacturer\"])\n",
    "        data = data.withColumn(\n",
    "            \"component_type\", data[\"component_info\"][\"component_type\"])\n",
    "        data = data.drop(\"component_info\")\n",
    "        df=df.union(data)\n",
    "    else:\n",
    "        print(\"No data\")\n",
    "    filterData(df)\n"
   ]
  },
  {
   "cell_type": "code",
   "execution_count": 8,
   "metadata": {},
   "outputs": [
    {
     "name": "stdout",
     "output_type": "stream",
     "text": [
      "{'plant_name': 'Plant1', 'lane_number': '4', 'timestamp': '1673521165', 'temperature': '79.57', 'component_info': {'component_type': 'solder_paste_printer', 'component_manufacturer': 'manufact1'}}\n",
      "ParallelCollectionRDD[5] at readRDDFromFile at PythonRDD.scala:274\n"
     ]
    },
    {
     "name": "stderr",
     "output_type": "stream",
     "text": [
      "                                                                                \r"
     ]
    },
    {
     "name": "stdout",
     "output_type": "stream",
     "text": [
      "+--------------+-----+\n",
      "|component_type|count|\n",
      "+--------------+-----+\n",
      "|     manufact1|    1|\n",
      "+--------------+-----+\n",
      "\n",
      "+-----------+--------------+--------+\n",
      "|lane_number|component_type|Max Temp|\n",
      "+-----------+--------------+--------+\n",
      "|          4|     manufact1|   79.57|\n",
      "+-----------+--------------+--------+\n",
      "\n",
      "+-----------+----------+-----------+-------------------+--------------+----------------------+--------+--------+--------+\n",
      "|lane_number|plant_name|temperature|          timestamp|component_type|component_manufacturer|Max Temp|Min Temp|Avg Temp|\n",
      "+-----------+----------+-----------+-------------------+--------------+----------------------+--------+--------+--------+\n",
      "|          4|    Plant1|      79.57|2023-01-12 16:29:25|     manufact1|  solder_paste_printer|   79.57|   79.57|   79.57|\n",
      "+-----------+----------+-----------+-------------------+--------------+----------------------+--------+--------+--------+\n",
      "\n",
      "{'plant_name': 'Plant3', 'lane_number': '3', 'timestamp': '1673521166', 'temperature': '46.53', 'component_info': {'component_type': 'optical_inspection_module', 'component_manufacturer': 'manufact2'}}\n",
      "ParallelCollectionRDD[48] at readRDDFromFile at PythonRDD.scala:274\n",
      "+--------------+-----+\n",
      "|component_type|count|\n",
      "+--------------+-----+\n",
      "|     manufact1|    1|\n",
      "+--------------+-----+\n",
      "\n",
      "+-----------+--------------+--------+\n",
      "|lane_number|component_type|Max Temp|\n",
      "+-----------+--------------+--------+\n",
      "|          4|     manufact1|   79.57|\n",
      "+-----------+--------------+--------+\n",
      "\n",
      "+-----------+----------+-----------+-------------------+--------------+----------------------+--------+--------+--------+\n",
      "|lane_number|plant_name|temperature|          timestamp|component_type|component_manufacturer|Max Temp|Min Temp|Avg Temp|\n",
      "+-----------+----------+-----------+-------------------+--------------+----------------------+--------+--------+--------+\n",
      "|          3|    Plant3|      46.53|2023-01-12 16:29:26|     manufact2|  optical_inspectio...|   46.53|   46.53|   46.53|\n",
      "|          4|    Plant1|      79.57|2023-01-12 16:29:25|     manufact1|  solder_paste_printer|   79.57|   79.57|   79.57|\n",
      "+-----------+----------+-----------+-------------------+--------------+----------------------+--------+--------+--------+\n",
      "\n",
      "{'plant_name': 'Plant4', 'lane_number': '6', 'timestamp': '1673521167', 'temperature': '93.28', 'component_info': {'component_type': 'optical_inspection_module', 'component_manufacturer': 'manufact2'}}\n",
      "ParallelCollectionRDD[94] at readRDDFromFile at PythonRDD.scala:274\n",
      "+--------------+-----+\n",
      "|component_type|count|\n",
      "+--------------+-----+\n",
      "|     manufact1|    1|\n",
      "|     manufact2|    1|\n",
      "+--------------+-----+\n",
      "\n",
      "+-----------+--------------+--------+\n",
      "|lane_number|component_type|Max Temp|\n",
      "+-----------+--------------+--------+\n",
      "|          4|     manufact1|   79.57|\n",
      "|          6|     manufact2|   93.28|\n",
      "+-----------+--------------+--------+\n",
      "\n",
      "+-----------+----------+-----------+-------------------+--------------+----------------------+--------+--------+--------+\n",
      "|lane_number|plant_name|temperature|          timestamp|component_type|component_manufacturer|Max Temp|Min Temp|Avg Temp|\n",
      "+-----------+----------+-----------+-------------------+--------------+----------------------+--------+--------+--------+\n",
      "|          3|    Plant3|      46.53|2023-01-12 16:29:26|     manufact2|  optical_inspectio...|   46.53|   46.53|   46.53|\n",
      "|          4|    Plant1|      79.57|2023-01-12 16:29:25|     manufact1|  solder_paste_printer|   79.57|   79.57|   79.57|\n",
      "|          6|    Plant4|      93.28|2023-01-12 16:29:27|     manufact2|  optical_inspectio...|   93.28|   93.28|   93.28|\n",
      "+-----------+----------+-----------+-------------------+--------------+----------------------+--------+--------+--------+\n",
      "\n",
      "{'plant_name': 'Plant1', 'lane_number': '2', 'timestamp': '1673521168', 'temperature': '73.70', 'component_info': {'component_type': 'solder_paste_printer', 'component_manufacturer': 'manufact2'}}\n",
      "ParallelCollectionRDD[144] at readRDDFromFile at PythonRDD.scala:274\n",
      "+--------------+-----+\n",
      "|component_type|count|\n",
      "+--------------+-----+\n",
      "|     manufact1|    1|\n",
      "|     manufact2|    2|\n",
      "+--------------+-----+\n",
      "\n",
      "+-----------+--------------+--------+\n",
      "|lane_number|component_type|Max Temp|\n",
      "+-----------+--------------+--------+\n",
      "|          2|     manufact2|   73.70|\n",
      "|          4|     manufact1|   79.57|\n",
      "|          6|     manufact2|   93.28|\n",
      "+-----------+--------------+--------+\n",
      "\n",
      "+-----------+----------+-----------+-------------------+--------------+----------------------+--------+--------+--------+\n",
      "|lane_number|plant_name|temperature|          timestamp|component_type|component_manufacturer|Max Temp|Min Temp|Avg Temp|\n",
      "+-----------+----------+-----------+-------------------+--------------+----------------------+--------+--------+--------+\n",
      "|          2|    Plant1|      73.70|2023-01-12 16:29:28|     manufact2|  solder_paste_printer|   73.70|   73.70|    73.7|\n",
      "|          3|    Plant3|      46.53|2023-01-12 16:29:26|     manufact2|  optical_inspectio...|   46.53|   46.53|   46.53|\n",
      "|          4|    Plant1|      79.57|2023-01-12 16:29:25|     manufact1|  solder_paste_printer|   79.57|   79.57|   79.57|\n",
      "|          6|    Plant4|      93.28|2023-01-12 16:29:27|     manufact2|  optical_inspectio...|   93.28|   93.28|   93.28|\n",
      "+-----------+----------+-----------+-------------------+--------------+----------------------+--------+--------+--------+\n",
      "\n",
      "{'plant_name': 'Plant4', 'lane_number': '5', 'timestamp': '1673521169', 'temperature': '87.32', 'component_info': {'component_type': 'optical_inspection_module', 'component_manufacturer': 'manufact3'}}\n",
      "ParallelCollectionRDD[197] at readRDDFromFile at PythonRDD.scala:274\n",
      "+--------------+-----+\n",
      "|component_type|count|\n",
      "+--------------+-----+\n",
      "|     manufact1|    1|\n",
      "|     manufact2|    2|\n",
      "|     manufact3|    1|\n",
      "+--------------+-----+\n",
      "\n",
      "+-----------+--------------+--------+\n",
      "|lane_number|component_type|Max Temp|\n",
      "+-----------+--------------+--------+\n",
      "|          2|     manufact2|   73.70|\n",
      "|          4|     manufact1|   79.57|\n",
      "|          5|     manufact3|   87.32|\n",
      "|          6|     manufact2|   93.28|\n",
      "+-----------+--------------+--------+\n",
      "\n",
      "+-----------+----------+-----------+-------------------+--------------+----------------------+--------+--------+--------+\n",
      "|lane_number|plant_name|temperature|          timestamp|component_type|component_manufacturer|Max Temp|Min Temp|Avg Temp|\n",
      "+-----------+----------+-----------+-------------------+--------------+----------------------+--------+--------+--------+\n",
      "|          2|    Plant1|      73.70|2023-01-12 16:29:28|     manufact2|  solder_paste_printer|   73.70|   73.70|    73.7|\n",
      "|          3|    Plant3|      46.53|2023-01-12 16:29:26|     manufact2|  optical_inspectio...|   46.53|   46.53|   46.53|\n",
      "|          4|    Plant1|      79.57|2023-01-12 16:29:25|     manufact1|  solder_paste_printer|   79.57|   79.57|   79.57|\n",
      "|          5|    Plant4|      87.32|2023-01-12 16:29:29|     manufact3|  optical_inspectio...|   87.32|   87.32|   87.32|\n",
      "|          6|    Plant4|      93.28|2023-01-12 16:29:27|     manufact2|  optical_inspectio...|   93.28|   93.28|   93.28|\n",
      "+-----------+----------+-----------+-------------------+--------------+----------------------+--------+--------+--------+\n",
      "\n",
      "{'plant_name': 'Plant1', 'lane_number': '3', 'timestamp': '1673521170', 'temperature': '89.57', 'component_info': {'component_type': 'solder_paste_printer', 'component_manufacturer': 'manufact1'}}\n",
      "ParallelCollectionRDD[253] at readRDDFromFile at PythonRDD.scala:274\n",
      "+--------------+-----+\n",
      "|component_type|count|\n",
      "+--------------+-----+\n",
      "|     manufact1|    2|\n",
      "|     manufact2|    2|\n",
      "|     manufact3|    1|\n",
      "+--------------+-----+\n",
      "\n",
      "+-----------+--------------+--------+\n",
      "|lane_number|component_type|Max Temp|\n",
      "+-----------+--------------+--------+\n",
      "|          2|     manufact2|   73.70|\n",
      "|          3|     manufact1|   89.57|\n",
      "|          4|     manufact1|   79.57|\n",
      "|          5|     manufact3|   87.32|\n",
      "|          6|     manufact2|   93.28|\n",
      "+-----------+--------------+--------+\n",
      "\n",
      "+-----------+----------+-----------+-------------------+--------------+----------------------+--------+--------+--------+\n",
      "|lane_number|plant_name|temperature|          timestamp|component_type|component_manufacturer|Max Temp|Min Temp|Avg Temp|\n",
      "+-----------+----------+-----------+-------------------+--------------+----------------------+--------+--------+--------+\n",
      "|          2|    Plant1|      73.70|2023-01-12 16:29:28|     manufact2|  solder_paste_printer|   73.70|   73.70|    73.7|\n",
      "|          3|    Plant1|      89.57|2023-01-12 16:29:30|     manufact1|  solder_paste_printer|   89.57|   89.57|   89.57|\n",
      "|          3|    Plant3|      46.53|2023-01-12 16:29:26|     manufact2|  optical_inspectio...|   46.53|   46.53|   46.53|\n",
      "|          4|    Plant1|      79.57|2023-01-12 16:29:25|     manufact1|  solder_paste_printer|   79.57|   79.57|   79.57|\n",
      "|          5|    Plant4|      87.32|2023-01-12 16:29:29|     manufact3|  optical_inspectio...|   87.32|   87.32|   87.32|\n",
      "|          6|    Plant4|      93.28|2023-01-12 16:29:27|     manufact2|  optical_inspectio...|   93.28|   93.28|   93.28|\n",
      "+-----------+----------+-----------+-------------------+--------------+----------------------+--------+--------+--------+\n",
      "\n",
      "{'plant_name': 'Plant5', 'lane_number': '6', 'timestamp': '1673521171', 'temperature': '61.65', 'component_info': {'component_type': 'optical_inspection_module', 'component_manufacturer': 'manufact2'}}\n",
      "ParallelCollectionRDD[312] at readRDDFromFile at PythonRDD.scala:274\n",
      "+--------------+-----+\n",
      "|component_type|count|\n",
      "+--------------+-----+\n",
      "|     manufact1|    2|\n",
      "|     manufact2|    3|\n",
      "|     manufact3|    1|\n",
      "+--------------+-----+\n",
      "\n",
      "+-----------+--------------+--------+\n",
      "|lane_number|component_type|Max Temp|\n",
      "+-----------+--------------+--------+\n",
      "|          2|     manufact2|   73.70|\n",
      "|          3|     manufact1|   89.57|\n",
      "|          4|     manufact1|   79.57|\n",
      "|          5|     manufact3|   87.32|\n",
      "|          6|     manufact2|   93.28|\n",
      "+-----------+--------------+--------+\n",
      "\n",
      "+-----------+----------+-----------+-------------------+--------------+----------------------+--------+--------+--------+\n",
      "|lane_number|plant_name|temperature|          timestamp|component_type|component_manufacturer|Max Temp|Min Temp|Avg Temp|\n",
      "+-----------+----------+-----------+-------------------+--------------+----------------------+--------+--------+--------+\n",
      "|          2|    Plant1|      73.70|2023-01-12 16:29:28|     manufact2|  solder_paste_printer|   73.70|   73.70|    73.7|\n",
      "|          3|    Plant1|      89.57|2023-01-12 16:29:30|     manufact1|  solder_paste_printer|   89.57|   89.57|   89.57|\n",
      "|          3|    Plant3|      46.53|2023-01-12 16:29:26|     manufact2|  optical_inspectio...|   46.53|   46.53|   46.53|\n",
      "|          4|    Plant1|      79.57|2023-01-12 16:29:25|     manufact1|  solder_paste_printer|   79.57|   79.57|   79.57|\n",
      "|          5|    Plant4|      87.32|2023-01-12 16:29:29|     manufact3|  optical_inspectio...|   87.32|   87.32|   87.32|\n",
      "|          6|    Plant4|      93.28|2023-01-12 16:29:27|     manufact2|  optical_inspectio...|   93.28|   61.65|  77.465|\n",
      "|          6|    Plant5|      61.65|2023-01-12 16:29:31|     manufact2|  optical_inspectio...|   93.28|   61.65|  77.465|\n",
      "+-----------+----------+-----------+-------------------+--------------+----------------------+--------+--------+--------+\n",
      "\n",
      "{'plant_name': 'Plant5', 'lane_number': '4', 'timestamp': '1673521172', 'temperature': '81.43', 'component_info': {'component_type': 'solder_paste_printer', 'component_manufacturer': 'manufact1'}}\n",
      "ParallelCollectionRDD[374] at readRDDFromFile at PythonRDD.scala:274\n",
      "+--------------+-----+\n",
      "|component_type|count|\n",
      "+--------------+-----+\n",
      "|     manufact1|    3|\n",
      "|     manufact2|    3|\n",
      "|     manufact3|    1|\n",
      "+--------------+-----+\n",
      "\n",
      "+-----------+--------------+--------+\n",
      "|lane_number|component_type|Max Temp|\n",
      "+-----------+--------------+--------+\n",
      "|          2|     manufact2|   73.70|\n",
      "|          3|     manufact1|   89.57|\n",
      "|          4|     manufact1|   81.43|\n",
      "|          5|     manufact3|   87.32|\n",
      "|          6|     manufact2|   93.28|\n",
      "+-----------+--------------+--------+\n",
      "\n",
      "+-----------+----------+-----------+-------------------+--------------+----------------------+--------+--------+--------+\n",
      "|lane_number|plant_name|temperature|          timestamp|component_type|component_manufacturer|Max Temp|Min Temp|Avg Temp|\n",
      "+-----------+----------+-----------+-------------------+--------------+----------------------+--------+--------+--------+\n",
      "|          2|    Plant1|      73.70|2023-01-12 16:29:28|     manufact2|  solder_paste_printer|   73.70|   73.70|    73.7|\n",
      "|          3|    Plant1|      89.57|2023-01-12 16:29:30|     manufact1|  solder_paste_printer|   89.57|   89.57|   89.57|\n",
      "|          3|    Plant3|      46.53|2023-01-12 16:29:26|     manufact2|  optical_inspectio...|   46.53|   46.53|   46.53|\n",
      "|          4|    Plant1|      79.57|2023-01-12 16:29:25|     manufact1|  solder_paste_printer|   81.43|   79.57|    80.5|\n",
      "|          4|    Plant5|      81.43|2023-01-12 16:29:32|     manufact1|  solder_paste_printer|   81.43|   79.57|    80.5|\n",
      "|          5|    Plant4|      87.32|2023-01-12 16:29:29|     manufact3|  optical_inspectio...|   87.32|   87.32|   87.32|\n",
      "|          6|    Plant4|      93.28|2023-01-12 16:29:27|     manufact2|  optical_inspectio...|   93.28|   61.65|  77.465|\n",
      "|          6|    Plant5|      61.65|2023-01-12 16:29:31|     manufact2|  optical_inspectio...|   93.28|   61.65|  77.465|\n",
      "+-----------+----------+-----------+-------------------+--------------+----------------------+--------+--------+--------+\n",
      "\n",
      "{'plant_name': 'Plant5', 'lane_number': '1', 'timestamp': '1673521173', 'temperature': '72.98', 'component_info': {'component_type': 'label_printer', 'component_manufacturer': 'manufact1'}}\n",
      "ParallelCollectionRDD[439] at readRDDFromFile at PythonRDD.scala:274\n",
      "+--------------+-----+\n",
      "|component_type|count|\n",
      "+--------------+-----+\n",
      "|     manufact1|    4|\n",
      "|     manufact2|    3|\n",
      "|     manufact3|    1|\n",
      "+--------------+-----+\n",
      "\n"
     ]
    },
    {
     "name": "stderr",
     "output_type": "stream",
     "text": [
      "                                                                                \r"
     ]
    },
    {
     "name": "stdout",
     "output_type": "stream",
     "text": [
      "+-----------+--------------+--------+\n",
      "|lane_number|component_type|Max Temp|\n",
      "+-----------+--------------+--------+\n",
      "|          1|     manufact1|   72.98|\n",
      "|          2|     manufact2|   73.70|\n",
      "|          3|     manufact1|   89.57|\n",
      "|          4|     manufact1|   81.43|\n",
      "|          5|     manufact3|   87.32|\n",
      "|          6|     manufact2|   93.28|\n",
      "+-----------+--------------+--------+\n",
      "\n",
      "+-----------+----------+-----------+-------------------+--------------+----------------------+--------+--------+--------+\n",
      "|lane_number|plant_name|temperature|          timestamp|component_type|component_manufacturer|Max Temp|Min Temp|Avg Temp|\n",
      "+-----------+----------+-----------+-------------------+--------------+----------------------+--------+--------+--------+\n",
      "|          1|    Plant5|      72.98|2023-01-12 16:29:33|     manufact1|         label_printer|   72.98|   72.98|   72.98|\n",
      "|          2|    Plant1|      73.70|2023-01-12 16:29:28|     manufact2|  solder_paste_printer|   73.70|   73.70|    73.7|\n",
      "|          3|    Plant1|      89.57|2023-01-12 16:29:30|     manufact1|  solder_paste_printer|   89.57|   89.57|   89.57|\n",
      "|          3|    Plant3|      46.53|2023-01-12 16:29:26|     manufact2|  optical_inspectio...|   46.53|   46.53|   46.53|\n",
      "|          4|    Plant1|      79.57|2023-01-12 16:29:25|     manufact1|  solder_paste_printer|   81.43|   79.57|    80.5|\n",
      "|          4|    Plant5|      81.43|2023-01-12 16:29:32|     manufact1|  solder_paste_printer|   81.43|   79.57|    80.5|\n",
      "|          5|    Plant4|      87.32|2023-01-12 16:29:29|     manufact3|  optical_inspectio...|   87.32|   87.32|   87.32|\n",
      "|          6|    Plant4|      93.28|2023-01-12 16:29:27|     manufact2|  optical_inspectio...|   93.28|   61.65|  77.465|\n",
      "|          6|    Plant5|      61.65|2023-01-12 16:29:31|     manufact2|  optical_inspectio...|   93.28|   61.65|  77.465|\n",
      "+-----------+----------+-----------+-------------------+--------------+----------------------+--------+--------+--------+\n",
      "\n",
      "{'plant_name': 'Plant3', 'lane_number': '2', 'timestamp': '1673521174', 'temperature': '22.79', 'component_info': {'component_type': 'solder_paste_printer', 'component_manufacturer': 'manufact2'}}\n",
      "ParallelCollectionRDD[507] at readRDDFromFile at PythonRDD.scala:274\n",
      "+--------------+-----+\n",
      "|component_type|count|\n",
      "+--------------+-----+\n",
      "|     manufact1|    4|\n",
      "|     manufact2|    3|\n",
      "|     manufact3|    1|\n",
      "+--------------+-----+\n",
      "\n"
     ]
    },
    {
     "name": "stderr",
     "output_type": "stream",
     "text": [
      "                                                                                \r"
     ]
    },
    {
     "name": "stdout",
     "output_type": "stream",
     "text": [
      "+-----------+--------------+--------+\n",
      "|lane_number|component_type|Max Temp|\n",
      "+-----------+--------------+--------+\n",
      "|          1|     manufact1|   72.98|\n",
      "|          2|     manufact2|   73.70|\n",
      "|          3|     manufact1|   89.57|\n",
      "|          4|     manufact1|   81.43|\n",
      "|          5|     manufact3|   87.32|\n",
      "|          6|     manufact2|   93.28|\n",
      "+-----------+--------------+--------+\n",
      "\n"
     ]
    },
    {
     "name": "stderr",
     "output_type": "stream",
     "text": [
      "                                                                                \r"
     ]
    },
    {
     "name": "stdout",
     "output_type": "stream",
     "text": [
      "+-----------+----------+-----------+-------------------+--------------+----------------------+--------+--------+------------------+\n",
      "|lane_number|plant_name|temperature|          timestamp|component_type|component_manufacturer|Max Temp|Min Temp|          Avg Temp|\n",
      "+-----------+----------+-----------+-------------------+--------------+----------------------+--------+--------+------------------+\n",
      "|          1|    Plant5|      72.98|2023-01-12 16:29:33|     manufact1|         label_printer|   72.98|   72.98|             72.98|\n",
      "|          2|    Plant1|      73.70|2023-01-12 16:29:28|     manufact2|  solder_paste_printer|   73.70|   22.79|48.245000000000005|\n",
      "|          2|    Plant3|      22.79|2023-01-12 16:29:34|     manufact2|  solder_paste_printer|   73.70|   22.79|48.245000000000005|\n",
      "|          3|    Plant1|      89.57|2023-01-12 16:29:30|     manufact1|  solder_paste_printer|   89.57|   89.57|             89.57|\n",
      "|          3|    Plant3|      46.53|2023-01-12 16:29:26|     manufact2|  optical_inspectio...|   46.53|   46.53|             46.53|\n",
      "|          4|    Plant1|      79.57|2023-01-12 16:29:25|     manufact1|  solder_paste_printer|   81.43|   79.57|              80.5|\n",
      "|          4|    Plant5|      81.43|2023-01-12 16:29:32|     manufact1|  solder_paste_printer|   81.43|   79.57|              80.5|\n",
      "|          5|    Plant4|      87.32|2023-01-12 16:29:29|     manufact3|  optical_inspectio...|   87.32|   87.32|             87.32|\n",
      "|          6|    Plant4|      93.28|2023-01-12 16:29:27|     manufact2|  optical_inspectio...|   93.28|   61.65|            77.465|\n",
      "|          6|    Plant5|      61.65|2023-01-12 16:29:31|     manufact2|  optical_inspectio...|   93.28|   61.65|            77.465|\n",
      "+-----------+----------+-----------+-------------------+--------------+----------------------+--------+--------+------------------+\n",
      "\n",
      "{'plant_name': 'Plant4', 'lane_number': '6', 'timestamp': '1673521175', 'temperature': '45.98', 'component_info': {'component_type': 'optical_inspection_module', 'component_manufacturer': 'manufact2'}}\n",
      "ParallelCollectionRDD[578] at readRDDFromFile at PythonRDD.scala:274\n"
     ]
    },
    {
     "name": "stderr",
     "output_type": "stream",
     "text": [
      "                                                                                \r"
     ]
    },
    {
     "name": "stdout",
     "output_type": "stream",
     "text": [
      "+--------------+-----+\n",
      "|component_type|count|\n",
      "+--------------+-----+\n",
      "|     manufact1|    4|\n",
      "|     manufact2|    3|\n",
      "|     manufact3|    1|\n",
      "+--------------+-----+\n",
      "\n"
     ]
    },
    {
     "name": "stderr",
     "output_type": "stream",
     "text": [
      "                                                                                \r"
     ]
    },
    {
     "name": "stdout",
     "output_type": "stream",
     "text": [
      "+-----------+--------------+--------+\n",
      "|lane_number|component_type|Max Temp|\n",
      "+-----------+--------------+--------+\n",
      "|          1|     manufact1|   72.98|\n",
      "|          2|     manufact2|   73.70|\n",
      "|          3|     manufact1|   89.57|\n",
      "|          4|     manufact1|   81.43|\n",
      "|          5|     manufact3|   87.32|\n",
      "|          6|     manufact2|   93.28|\n",
      "+-----------+--------------+--------+\n",
      "\n"
     ]
    },
    {
     "name": "stderr",
     "output_type": "stream",
     "text": [
      "                                                                                \r"
     ]
    },
    {
     "name": "stdout",
     "output_type": "stream",
     "text": [
      "+-----------+----------+-----------+-------------------+--------------+----------------------+--------+--------+------------------+\n",
      "|lane_number|plant_name|temperature|          timestamp|component_type|component_manufacturer|Max Temp|Min Temp|          Avg Temp|\n",
      "+-----------+----------+-----------+-------------------+--------------+----------------------+--------+--------+------------------+\n",
      "|          1|    Plant5|      72.98|2023-01-12 16:29:33|     manufact1|         label_printer|   72.98|   72.98|             72.98|\n",
      "|          2|    Plant1|      73.70|2023-01-12 16:29:28|     manufact2|  solder_paste_printer|   73.70|   22.79|48.245000000000005|\n",
      "|          2|    Plant3|      22.79|2023-01-12 16:29:34|     manufact2|  solder_paste_printer|   73.70|   22.79|48.245000000000005|\n",
      "|          3|    Plant1|      89.57|2023-01-12 16:29:30|     manufact1|  solder_paste_printer|   89.57|   89.57|             89.57|\n",
      "|          3|    Plant3|      46.53|2023-01-12 16:29:26|     manufact2|  optical_inspectio...|   46.53|   46.53|             46.53|\n",
      "|          4|    Plant1|      79.57|2023-01-12 16:29:25|     manufact1|  solder_paste_printer|   81.43|   79.57|              80.5|\n",
      "|          4|    Plant5|      81.43|2023-01-12 16:29:32|     manufact1|  solder_paste_printer|   81.43|   79.57|              80.5|\n",
      "|          5|    Plant4|      87.32|2023-01-12 16:29:29|     manufact3|  optical_inspectio...|   87.32|   87.32|             87.32|\n",
      "|          6|    Plant4|      93.28|2023-01-12 16:29:27|     manufact2|  optical_inspectio...|   93.28|   45.98|             66.97|\n",
      "|          6|    Plant5|      61.65|2023-01-12 16:29:31|     manufact2|  optical_inspectio...|   93.28|   45.98|             66.97|\n",
      "|          6|    Plant4|      45.98|2023-01-12 16:29:35|     manufact2|  optical_inspectio...|   93.28|   45.98|             66.97|\n",
      "+-----------+----------+-----------+-------------------+--------------+----------------------+--------+--------+------------------+\n",
      "\n",
      "{'plant_name': 'Plant1', 'lane_number': '2', 'timestamp': '1673521176', 'temperature': '27.23', 'component_info': {'component_type': 'label_printer', 'component_manufacturer': 'manufact3'}}\n",
      "ParallelCollectionRDD[652] at readRDDFromFile at PythonRDD.scala:274\n"
     ]
    },
    {
     "name": "stderr",
     "output_type": "stream",
     "text": [
      "                                                                                \r"
     ]
    },
    {
     "name": "stdout",
     "output_type": "stream",
     "text": [
      "+--------------+-----+\n",
      "|component_type|count|\n",
      "+--------------+-----+\n",
      "|     manufact1|    4|\n",
      "|     manufact2|    3|\n",
      "|     manufact3|    1|\n",
      "+--------------+-----+\n",
      "\n"
     ]
    },
    {
     "name": "stderr",
     "output_type": "stream",
     "text": [
      "                                                                                \r"
     ]
    },
    {
     "name": "stdout",
     "output_type": "stream",
     "text": [
      "+-----------+--------------+--------+\n",
      "|lane_number|component_type|Max Temp|\n",
      "+-----------+--------------+--------+\n",
      "|          1|     manufact1|   72.98|\n",
      "|          2|     manufact2|   73.70|\n",
      "|          3|     manufact1|   89.57|\n",
      "|          4|     manufact1|   81.43|\n",
      "|          5|     manufact3|   87.32|\n",
      "|          6|     manufact2|   93.28|\n",
      "+-----------+--------------+--------+\n",
      "\n"
     ]
    },
    {
     "name": "stderr",
     "output_type": "stream",
     "text": [
      "                                                                                \r"
     ]
    },
    {
     "name": "stdout",
     "output_type": "stream",
     "text": [
      "+-----------+----------+-----------+-------------------+--------------+----------------------+--------+--------+------------------+\n",
      "|lane_number|plant_name|temperature|          timestamp|component_type|component_manufacturer|Max Temp|Min Temp|          Avg Temp|\n",
      "+-----------+----------+-----------+-------------------+--------------+----------------------+--------+--------+------------------+\n",
      "|          1|    Plant5|      72.98|2023-01-12 16:29:33|     manufact1|         label_printer|   72.98|   72.98|             72.98|\n",
      "|          2|    Plant1|      73.70|2023-01-12 16:29:28|     manufact2|  solder_paste_printer|   73.70|   22.79|48.245000000000005|\n",
      "|          2|    Plant3|      22.79|2023-01-12 16:29:34|     manufact2|  solder_paste_printer|   73.70|   22.79|48.245000000000005|\n",
      "|          2|    Plant1|      27.23|2023-01-12 16:29:36|     manufact3|         label_printer|   27.23|   27.23|             27.23|\n",
      "|          3|    Plant1|      89.57|2023-01-12 16:29:30|     manufact1|  solder_paste_printer|   89.57|   89.57|             89.57|\n",
      "|          3|    Plant3|      46.53|2023-01-12 16:29:26|     manufact2|  optical_inspectio...|   46.53|   46.53|             46.53|\n",
      "|          4|    Plant1|      79.57|2023-01-12 16:29:25|     manufact1|  solder_paste_printer|   81.43|   79.57|              80.5|\n",
      "|          4|    Plant5|      81.43|2023-01-12 16:29:32|     manufact1|  solder_paste_printer|   81.43|   79.57|              80.5|\n",
      "|          5|    Plant4|      87.32|2023-01-12 16:29:29|     manufact3|  optical_inspectio...|   87.32|   87.32|             87.32|\n",
      "|          6|    Plant4|      93.28|2023-01-12 16:29:27|     manufact2|  optical_inspectio...|   93.28|   45.98|             66.97|\n",
      "|          6|    Plant5|      61.65|2023-01-12 16:29:31|     manufact2|  optical_inspectio...|   93.28|   45.98|             66.97|\n",
      "|          6|    Plant4|      45.98|2023-01-12 16:29:35|     manufact2|  optical_inspectio...|   93.28|   45.98|             66.97|\n",
      "+-----------+----------+-----------+-------------------+--------------+----------------------+--------+--------+------------------+\n",
      "\n",
      "{'plant_name': 'Plant4', 'lane_number': '4', 'timestamp': '1673521177', 'temperature': '91.52', 'component_info': {'component_type': 'solder_paste_printer', 'component_manufacturer': 'manufact1'}}\n",
      "ParallelCollectionRDD[729] at readRDDFromFile at PythonRDD.scala:274\n"
     ]
    },
    {
     "name": "stderr",
     "output_type": "stream",
     "text": [
      "                                                                                \r"
     ]
    },
    {
     "name": "stdout",
     "output_type": "stream",
     "text": [
      "+--------------+-----+\n",
      "|component_type|count|\n",
      "+--------------+-----+\n",
      "|     manufact1|    5|\n",
      "|     manufact2|    3|\n",
      "|     manufact3|    1|\n",
      "+--------------+-----+\n",
      "\n"
     ]
    },
    {
     "name": "stderr",
     "output_type": "stream",
     "text": [
      "                                                                                \r"
     ]
    },
    {
     "name": "stdout",
     "output_type": "stream",
     "text": [
      "+-----------+--------------+--------+\n",
      "|lane_number|component_type|Max Temp|\n",
      "+-----------+--------------+--------+\n",
      "|          1|     manufact1|   72.98|\n",
      "|          2|     manufact2|   73.70|\n",
      "|          3|     manufact1|   89.57|\n",
      "|          4|     manufact1|   91.52|\n",
      "|          5|     manufact3|   87.32|\n",
      "|          6|     manufact2|   93.28|\n",
      "+-----------+--------------+--------+\n",
      "\n"
     ]
    },
    {
     "name": "stderr",
     "output_type": "stream",
     "text": [
      "                                                                                \r"
     ]
    },
    {
     "name": "stdout",
     "output_type": "stream",
     "text": [
      "+-----------+----------+-----------+-------------------+--------------+----------------------+--------+--------+------------------+\n",
      "|lane_number|plant_name|temperature|          timestamp|component_type|component_manufacturer|Max Temp|Min Temp|          Avg Temp|\n",
      "+-----------+----------+-----------+-------------------+--------------+----------------------+--------+--------+------------------+\n",
      "|          1|    Plant5|      72.98|2023-01-12 16:29:33|     manufact1|         label_printer|   72.98|   72.98|             72.98|\n",
      "|          2|    Plant1|      73.70|2023-01-12 16:29:28|     manufact2|  solder_paste_printer|   73.70|   22.79|48.245000000000005|\n",
      "|          2|    Plant3|      22.79|2023-01-12 16:29:34|     manufact2|  solder_paste_printer|   73.70|   22.79|48.245000000000005|\n",
      "|          2|    Plant1|      27.23|2023-01-12 16:29:36|     manufact3|         label_printer|   27.23|   27.23|             27.23|\n",
      "|          3|    Plant1|      89.57|2023-01-12 16:29:30|     manufact1|  solder_paste_printer|   89.57|   89.57|             89.57|\n",
      "|          3|    Plant3|      46.53|2023-01-12 16:29:26|     manufact2|  optical_inspectio...|   46.53|   46.53|             46.53|\n",
      "|          4|    Plant1|      79.57|2023-01-12 16:29:25|     manufact1|  solder_paste_printer|   91.52|   79.57| 84.17333333333333|\n",
      "|          4|    Plant5|      81.43|2023-01-12 16:29:32|     manufact1|  solder_paste_printer|   91.52|   79.57| 84.17333333333333|\n",
      "|          4|    Plant4|      91.52|2023-01-12 16:29:37|     manufact1|  solder_paste_printer|   91.52|   79.57| 84.17333333333333|\n",
      "|          5|    Plant4|      87.32|2023-01-12 16:29:29|     manufact3|  optical_inspectio...|   87.32|   87.32|             87.32|\n",
      "|          6|    Plant4|      93.28|2023-01-12 16:29:27|     manufact2|  optical_inspectio...|   93.28|   45.98|             66.97|\n",
      "|          6|    Plant5|      61.65|2023-01-12 16:29:31|     manufact2|  optical_inspectio...|   93.28|   45.98|             66.97|\n",
      "|          6|    Plant4|      45.98|2023-01-12 16:29:35|     manufact2|  optical_inspectio...|   93.28|   45.98|             66.97|\n",
      "+-----------+----------+-----------+-------------------+--------------+----------------------+--------+--------+------------------+\n",
      "\n",
      "{'plant_name': 'Plant3', 'lane_number': '1', 'timestamp': '1673521178', 'temperature': '44.55', 'component_info': {'component_type': 'solder_paste_printer', 'component_manufacturer': 'manufact2'}}\n",
      "ParallelCollectionRDD[809] at readRDDFromFile at PythonRDD.scala:274\n"
     ]
    },
    {
     "name": "stderr",
     "output_type": "stream",
     "text": [
      "                                                                                \r"
     ]
    },
    {
     "name": "stdout",
     "output_type": "stream",
     "text": [
      "+--------------+-----+\n",
      "|component_type|count|\n",
      "+--------------+-----+\n",
      "|     manufact1|    5|\n",
      "|     manufact2|    3|\n",
      "|     manufact3|    1|\n",
      "+--------------+-----+\n",
      "\n"
     ]
    },
    {
     "name": "stderr",
     "output_type": "stream",
     "text": [
      "                                                                                \r"
     ]
    },
    {
     "name": "stdout",
     "output_type": "stream",
     "text": [
      "+-----------+--------------+--------+\n",
      "|lane_number|component_type|Max Temp|\n",
      "+-----------+--------------+--------+\n",
      "|          1|     manufact1|   72.98|\n",
      "|          2|     manufact2|   73.70|\n",
      "|          3|     manufact1|   89.57|\n",
      "|          4|     manufact1|   91.52|\n",
      "|          5|     manufact3|   87.32|\n",
      "|          6|     manufact2|   93.28|\n",
      "+-----------+--------------+--------+\n",
      "\n"
     ]
    },
    {
     "name": "stderr",
     "output_type": "stream",
     "text": [
      "                                                                                \r"
     ]
    },
    {
     "name": "stdout",
     "output_type": "stream",
     "text": [
      "+-----------+----------+-----------+-------------------+--------------+----------------------+--------+--------+------------------+\n",
      "|lane_number|plant_name|temperature|          timestamp|component_type|component_manufacturer|Max Temp|Min Temp|          Avg Temp|\n",
      "+-----------+----------+-----------+-------------------+--------------+----------------------+--------+--------+------------------+\n",
      "|          1|    Plant5|      72.98|2023-01-12 16:29:33|     manufact1|         label_printer|   72.98|   72.98|             72.98|\n",
      "|          1|    Plant3|      44.55|2023-01-12 16:29:38|     manufact2|  solder_paste_printer|   44.55|   44.55|             44.55|\n",
      "|          2|    Plant1|      73.70|2023-01-12 16:29:28|     manufact2|  solder_paste_printer|   73.70|   22.79|48.245000000000005|\n",
      "|          2|    Plant3|      22.79|2023-01-12 16:29:34|     manufact2|  solder_paste_printer|   73.70|   22.79|48.245000000000005|\n",
      "|          2|    Plant1|      27.23|2023-01-12 16:29:36|     manufact3|         label_printer|   27.23|   27.23|             27.23|\n",
      "|          3|    Plant1|      89.57|2023-01-12 16:29:30|     manufact1|  solder_paste_printer|   89.57|   89.57|             89.57|\n",
      "|          3|    Plant3|      46.53|2023-01-12 16:29:26|     manufact2|  optical_inspectio...|   46.53|   46.53|             46.53|\n",
      "|          4|    Plant1|      79.57|2023-01-12 16:29:25|     manufact1|  solder_paste_printer|   91.52|   79.57| 84.17333333333333|\n",
      "|          4|    Plant5|      81.43|2023-01-12 16:29:32|     manufact1|  solder_paste_printer|   91.52|   79.57| 84.17333333333333|\n",
      "|          4|    Plant4|      91.52|2023-01-12 16:29:37|     manufact1|  solder_paste_printer|   91.52|   79.57| 84.17333333333333|\n",
      "|          5|    Plant4|      87.32|2023-01-12 16:29:29|     manufact3|  optical_inspectio...|   87.32|   87.32|             87.32|\n",
      "|          6|    Plant4|      93.28|2023-01-12 16:29:27|     manufact2|  optical_inspectio...|   93.28|   45.98|             66.97|\n",
      "|          6|    Plant5|      61.65|2023-01-12 16:29:31|     manufact2|  optical_inspectio...|   93.28|   45.98|             66.97|\n",
      "|          6|    Plant4|      45.98|2023-01-12 16:29:35|     manufact2|  optical_inspectio...|   93.28|   45.98|             66.97|\n",
      "+-----------+----------+-----------+-------------------+--------------+----------------------+--------+--------+------------------+\n",
      "\n",
      "{'plant_name': 'Plant4', 'lane_number': '1', 'timestamp': '1673521179', 'temperature': '85.12', 'component_info': {'component_type': 'solder_paste_printer', 'component_manufacturer': 'manufact2'}}\n",
      "ParallelCollectionRDD[892] at readRDDFromFile at PythonRDD.scala:274\n"
     ]
    },
    {
     "name": "stderr",
     "output_type": "stream",
     "text": [
      "                                                                                \r"
     ]
    },
    {
     "name": "stdout",
     "output_type": "stream",
     "text": [
      "+--------------+-----+\n",
      "|component_type|count|\n",
      "+--------------+-----+\n",
      "|     manufact1|    5|\n",
      "|     manufact2|    4|\n",
      "|     manufact3|    1|\n",
      "+--------------+-----+\n",
      "\n"
     ]
    },
    {
     "name": "stderr",
     "output_type": "stream",
     "text": [
      "                                                                                \r"
     ]
    },
    {
     "name": "stdout",
     "output_type": "stream",
     "text": [
      "+-----------+--------------+--------+\n",
      "|lane_number|component_type|Max Temp|\n",
      "+-----------+--------------+--------+\n",
      "|          1|     manufact2|   85.12|\n",
      "|          1|     manufact1|   72.98|\n",
      "|          2|     manufact2|   73.70|\n",
      "|          3|     manufact1|   89.57|\n",
      "|          4|     manufact1|   91.52|\n",
      "|          5|     manufact3|   87.32|\n",
      "|          6|     manufact2|   93.28|\n",
      "+-----------+--------------+--------+\n",
      "\n"
     ]
    },
    {
     "name": "stderr",
     "output_type": "stream",
     "text": [
      "                                                                                \r"
     ]
    },
    {
     "name": "stdout",
     "output_type": "stream",
     "text": [
      "+-----------+----------+-----------+-------------------+--------------+----------------------+--------+--------+------------------+\n",
      "|lane_number|plant_name|temperature|          timestamp|component_type|component_manufacturer|Max Temp|Min Temp|          Avg Temp|\n",
      "+-----------+----------+-----------+-------------------+--------------+----------------------+--------+--------+------------------+\n",
      "|          1|    Plant5|      72.98|2023-01-12 16:29:33|     manufact1|         label_printer|   72.98|   72.98|             72.98|\n",
      "|          1|    Plant3|      44.55|2023-01-12 16:29:38|     manufact2|  solder_paste_printer|   85.12|   44.55| 64.83500000000001|\n",
      "|          1|    Plant4|      85.12|2023-01-12 16:29:39|     manufact2|  solder_paste_printer|   85.12|   44.55| 64.83500000000001|\n",
      "|          2|    Plant1|      73.70|2023-01-12 16:29:28|     manufact2|  solder_paste_printer|   73.70|   22.79|48.245000000000005|\n",
      "|          2|    Plant3|      22.79|2023-01-12 16:29:34|     manufact2|  solder_paste_printer|   73.70|   22.79|48.245000000000005|\n",
      "|          2|    Plant1|      27.23|2023-01-12 16:29:36|     manufact3|         label_printer|   27.23|   27.23|             27.23|\n",
      "|          3|    Plant1|      89.57|2023-01-12 16:29:30|     manufact1|  solder_paste_printer|   89.57|   89.57|             89.57|\n",
      "|          3|    Plant3|      46.53|2023-01-12 16:29:26|     manufact2|  optical_inspectio...|   46.53|   46.53|             46.53|\n",
      "|          4|    Plant1|      79.57|2023-01-12 16:29:25|     manufact1|  solder_paste_printer|   91.52|   79.57| 84.17333333333333|\n",
      "|          4|    Plant5|      81.43|2023-01-12 16:29:32|     manufact1|  solder_paste_printer|   91.52|   79.57| 84.17333333333333|\n",
      "|          4|    Plant4|      91.52|2023-01-12 16:29:37|     manufact1|  solder_paste_printer|   91.52|   79.57| 84.17333333333333|\n",
      "|          5|    Plant4|      87.32|2023-01-12 16:29:29|     manufact3|  optical_inspectio...|   87.32|   87.32|             87.32|\n",
      "|          6|    Plant4|      93.28|2023-01-12 16:29:27|     manufact2|  optical_inspectio...|   93.28|   45.98|             66.97|\n",
      "|          6|    Plant5|      61.65|2023-01-12 16:29:31|     manufact2|  optical_inspectio...|   93.28|   45.98|             66.97|\n",
      "|          6|    Plant4|      45.98|2023-01-12 16:29:35|     manufact2|  optical_inspectio...|   93.28|   45.98|             66.97|\n",
      "+-----------+----------+-----------+-------------------+--------------+----------------------+--------+--------+------------------+\n",
      "\n",
      "{'plant_name': 'Plant4', 'lane_number': '7', 'timestamp': '1673521180', 'temperature': '81.67', 'component_info': {'component_type': 'optical_inspection_module', 'component_manufacturer': 'manufact3'}}\n",
      "ParallelCollectionRDD[978] at readRDDFromFile at PythonRDD.scala:274\n"
     ]
    },
    {
     "name": "stderr",
     "output_type": "stream",
     "text": [
      "                                                                                \r"
     ]
    },
    {
     "name": "stdout",
     "output_type": "stream",
     "text": [
      "+--------------+-----+\n",
      "|component_type|count|\n",
      "+--------------+-----+\n",
      "|     manufact1|    5|\n",
      "|     manufact2|    4|\n",
      "|     manufact3|    2|\n",
      "+--------------+-----+\n",
      "\n"
     ]
    },
    {
     "name": "stderr",
     "output_type": "stream",
     "text": [
      "                                                                                \r"
     ]
    },
    {
     "name": "stdout",
     "output_type": "stream",
     "text": [
      "+-----------+--------------+--------+\n",
      "|lane_number|component_type|Max Temp|\n",
      "+-----------+--------------+--------+\n",
      "|          1|     manufact2|   85.12|\n",
      "|          1|     manufact1|   72.98|\n",
      "|          2|     manufact2|   73.70|\n",
      "|          3|     manufact1|   89.57|\n",
      "|          4|     manufact1|   91.52|\n",
      "|          5|     manufact3|   87.32|\n",
      "|          6|     manufact2|   93.28|\n",
      "|          7|     manufact3|   81.67|\n",
      "+-----------+--------------+--------+\n",
      "\n"
     ]
    },
    {
     "name": "stderr",
     "output_type": "stream",
     "text": [
      "                                                                                \r"
     ]
    },
    {
     "name": "stdout",
     "output_type": "stream",
     "text": [
      "+-----------+----------+-----------+-------------------+--------------+----------------------+--------+--------+------------------+\n",
      "|lane_number|plant_name|temperature|          timestamp|component_type|component_manufacturer|Max Temp|Min Temp|          Avg Temp|\n",
      "+-----------+----------+-----------+-------------------+--------------+----------------------+--------+--------+------------------+\n",
      "|          1|    Plant5|      72.98|2023-01-12 16:29:33|     manufact1|         label_printer|   72.98|   72.98|             72.98|\n",
      "|          1|    Plant3|      44.55|2023-01-12 16:29:38|     manufact2|  solder_paste_printer|   85.12|   44.55| 64.83500000000001|\n",
      "|          1|    Plant4|      85.12|2023-01-12 16:29:39|     manufact2|  solder_paste_printer|   85.12|   44.55| 64.83500000000001|\n",
      "|          2|    Plant1|      73.70|2023-01-12 16:29:28|     manufact2|  solder_paste_printer|   73.70|   22.79|48.245000000000005|\n",
      "|          2|    Plant3|      22.79|2023-01-12 16:29:34|     manufact2|  solder_paste_printer|   73.70|   22.79|48.245000000000005|\n",
      "|          2|    Plant1|      27.23|2023-01-12 16:29:36|     manufact3|         label_printer|   27.23|   27.23|             27.23|\n",
      "|          3|    Plant1|      89.57|2023-01-12 16:29:30|     manufact1|  solder_paste_printer|   89.57|   89.57|             89.57|\n",
      "|          3|    Plant3|      46.53|2023-01-12 16:29:26|     manufact2|  optical_inspectio...|   46.53|   46.53|             46.53|\n",
      "|          4|    Plant1|      79.57|2023-01-12 16:29:25|     manufact1|  solder_paste_printer|   91.52|   79.57| 84.17333333333333|\n",
      "|          4|    Plant5|      81.43|2023-01-12 16:29:32|     manufact1|  solder_paste_printer|   91.52|   79.57| 84.17333333333333|\n",
      "|          4|    Plant4|      91.52|2023-01-12 16:29:37|     manufact1|  solder_paste_printer|   91.52|   79.57| 84.17333333333333|\n",
      "|          5|    Plant4|      87.32|2023-01-12 16:29:29|     manufact3|  optical_inspectio...|   87.32|   87.32|             87.32|\n",
      "|          6|    Plant4|      93.28|2023-01-12 16:29:27|     manufact2|  optical_inspectio...|   93.28|   45.98|             66.97|\n",
      "|          6|    Plant5|      61.65|2023-01-12 16:29:31|     manufact2|  optical_inspectio...|   93.28|   45.98|             66.97|\n",
      "|          6|    Plant4|      45.98|2023-01-12 16:29:35|     manufact2|  optical_inspectio...|   93.28|   45.98|             66.97|\n",
      "|          7|    Plant4|      81.67|2023-01-12 16:29:40|     manufact3|  optical_inspectio...|   81.67|   81.67|             81.67|\n",
      "+-----------+----------+-----------+-------------------+--------------+----------------------+--------+--------+------------------+\n",
      "\n",
      "{'plant_name': 'Plant1', 'lane_number': '4', 'timestamp': '1673521181', 'temperature': '89.26', 'component_info': {'component_type': 'optical_inspection_module', 'component_manufacturer': 'manufact2'}}\n",
      "ParallelCollectionRDD[1067] at readRDDFromFile at PythonRDD.scala:274\n"
     ]
    },
    {
     "name": "stderr",
     "output_type": "stream",
     "text": [
      "                                                                                \r"
     ]
    },
    {
     "name": "stdout",
     "output_type": "stream",
     "text": [
      "+--------------+-----+\n",
      "|component_type|count|\n",
      "+--------------+-----+\n",
      "|     manufact1|    5|\n",
      "|     manufact2|    5|\n",
      "|     manufact3|    2|\n",
      "+--------------+-----+\n",
      "\n"
     ]
    },
    {
     "name": "stderr",
     "output_type": "stream",
     "text": [
      "ERROR:root:KeyboardInterrupt while sending command.                             \n",
      "Traceback (most recent call last):\n",
      "  File \"/home/user/.local/lib/python3.10/site-packages/py4j/java_gateway.py\", line 1038, in send_command\n",
      "    response = connection.send_command(command)\n",
      "  File \"/home/user/.local/lib/python3.10/site-packages/py4j/clientserver.py\", line 511, in send_command\n",
      "    answer = smart_decode(self.stream.readline()[:-1])\n",
      "  File \"/usr/lib/python3.10/socket.py\", line 705, in readinto\n",
      "    return self._sock.recv_into(b)\n",
      "KeyboardInterrupt\n"
     ]
    },
    {
     "name": "stdout",
     "output_type": "stream",
     "text": [
      "+-----------+--------------+--------+\n",
      "|lane_number|component_type|Max Temp|\n",
      "+-----------+--------------+--------+\n",
      "|          1|     manufact2|   85.12|\n",
      "|          1|     manufact1|   72.98|\n",
      "|          2|     manufact2|   73.70|\n",
      "|          3|     manufact1|   89.57|\n",
      "|          4|     manufact1|   91.52|\n",
      "|          4|     manufact2|   89.26|\n",
      "|          5|     manufact3|   87.32|\n",
      "|          6|     manufact2|   93.28|\n",
      "|          7|     manufact3|   81.67|\n",
      "+-----------+--------------+--------+\n",
      "\n"
     ]
    },
    {
     "ename": "KeyboardInterrupt",
     "evalue": "",
     "output_type": "error",
     "traceback": [
      "\u001b[0;31m---------------------------------------------------------------------------\u001b[0m",
      "\u001b[0;31mKeyboardInterrupt\u001b[0m                         Traceback (most recent call last)",
      "Cell \u001b[0;32mIn[8], line 9\u001b[0m\n\u001b[1;32m      7\u001b[0m \u001b[39mif\u001b[39;00m \u001b[39m\"\u001b[39m\u001b[39mcomponent_info\u001b[39m\u001b[39m\"\u001b[39m \u001b[39min\u001b[39;00m data \u001b[39mand\u001b[39;00m data[\u001b[39m\"\u001b[39m\u001b[39mcomponent_info\u001b[39m\u001b[39m\"\u001b[39m] \u001b[39mand\u001b[39;00m \u001b[39m\"\u001b[39m\u001b[39mcomponent_type\u001b[39m\u001b[39m\"\u001b[39m \u001b[39min\u001b[39;00m data[\u001b[39m\"\u001b[39m\u001b[39mcomponent_info\u001b[39m\u001b[39m\"\u001b[39m] \u001b[39mand\u001b[39;00m data[\u001b[39m\"\u001b[39m\u001b[39mcomponent_info\u001b[39m\u001b[39m\"\u001b[39m][\u001b[39m\"\u001b[39m\u001b[39mcomponent_type\u001b[39m\u001b[39m\"\u001b[39m] \u001b[39mand\u001b[39;00m data[\u001b[39m'\u001b[39m\u001b[39mtemperature\u001b[39m\u001b[39m'\u001b[39m] \u001b[39mis\u001b[39;00m \u001b[39mnot\u001b[39;00m \u001b[39mNone\u001b[39;00m:\n\u001b[1;32m      8\u001b[0m     rdd \u001b[39m=\u001b[39m sc\u001b[39m.\u001b[39mparallelize([record\u001b[39m.\u001b[39mvalue\u001b[39m.\u001b[39mdecode(\u001b[39m'\u001b[39m\u001b[39mutf-8\u001b[39m\u001b[39m'\u001b[39m)])\n\u001b[0;32m----> 9\u001b[0m     process(rdd)\n",
      "Cell \u001b[0;32mIn[7], line 18\u001b[0m, in \u001b[0;36mprocess\u001b[0;34m(rdd)\u001b[0m\n\u001b[1;32m     16\u001b[0m \u001b[39melse\u001b[39;00m:\n\u001b[1;32m     17\u001b[0m     \u001b[39mprint\u001b[39m(\u001b[39m\"\u001b[39m\u001b[39mNo data\u001b[39m\u001b[39m\"\u001b[39m)\n\u001b[0;32m---> 18\u001b[0m filterData(df)\n",
      "Cell \u001b[0;32mIn[6], line 21\u001b[0m, in \u001b[0;36mfilterData\u001b[0;34m(dataframe)\u001b[0m\n\u001b[1;32m     19\u001b[0m component_counts\u001b[39m.\u001b[39mshow()\n\u001b[1;32m     20\u001b[0m highest_temp_per_lane\u001b[39m.\u001b[39mshow()\n\u001b[0;32m---> 21\u001b[0m temp_stats\u001b[39m.\u001b[39;49mshow()\n",
      "File \u001b[0;32m~/.local/lib/python3.10/site-packages/pyspark/sql/dataframe.py:606\u001b[0m, in \u001b[0;36mDataFrame.show\u001b[0;34m(self, n, truncate, vertical)\u001b[0m\n\u001b[1;32m    603\u001b[0m     \u001b[39mraise\u001b[39;00m \u001b[39mTypeError\u001b[39;00m(\u001b[39m\"\u001b[39m\u001b[39mParameter \u001b[39m\u001b[39m'\u001b[39m\u001b[39mvertical\u001b[39m\u001b[39m'\u001b[39m\u001b[39m must be a bool\u001b[39m\u001b[39m\"\u001b[39m)\n\u001b[1;32m    605\u001b[0m \u001b[39mif\u001b[39;00m \u001b[39misinstance\u001b[39m(truncate, \u001b[39mbool\u001b[39m) \u001b[39mand\u001b[39;00m truncate:\n\u001b[0;32m--> 606\u001b[0m     \u001b[39mprint\u001b[39m(\u001b[39mself\u001b[39;49m\u001b[39m.\u001b[39;49m_jdf\u001b[39m.\u001b[39;49mshowString(n, \u001b[39m20\u001b[39;49m, vertical))\n\u001b[1;32m    607\u001b[0m \u001b[39melse\u001b[39;00m:\n\u001b[1;32m    608\u001b[0m     \u001b[39mtry\u001b[39;00m:\n",
      "File \u001b[0;32m~/.local/lib/python3.10/site-packages/py4j/java_gateway.py:1320\u001b[0m, in \u001b[0;36mJavaMember.__call__\u001b[0;34m(self, *args)\u001b[0m\n\u001b[1;32m   1313\u001b[0m args_command, temp_args \u001b[39m=\u001b[39m \u001b[39mself\u001b[39m\u001b[39m.\u001b[39m_build_args(\u001b[39m*\u001b[39margs)\n\u001b[1;32m   1315\u001b[0m command \u001b[39m=\u001b[39m proto\u001b[39m.\u001b[39mCALL_COMMAND_NAME \u001b[39m+\u001b[39m\\\n\u001b[1;32m   1316\u001b[0m     \u001b[39mself\u001b[39m\u001b[39m.\u001b[39mcommand_header \u001b[39m+\u001b[39m\\\n\u001b[1;32m   1317\u001b[0m     args_command \u001b[39m+\u001b[39m\\\n\u001b[1;32m   1318\u001b[0m     proto\u001b[39m.\u001b[39mEND_COMMAND_PART\n\u001b[0;32m-> 1320\u001b[0m answer \u001b[39m=\u001b[39m \u001b[39mself\u001b[39;49m\u001b[39m.\u001b[39;49mgateway_client\u001b[39m.\u001b[39;49msend_command(command)\n\u001b[1;32m   1321\u001b[0m return_value \u001b[39m=\u001b[39m get_return_value(\n\u001b[1;32m   1322\u001b[0m     answer, \u001b[39mself\u001b[39m\u001b[39m.\u001b[39mgateway_client, \u001b[39mself\u001b[39m\u001b[39m.\u001b[39mtarget_id, \u001b[39mself\u001b[39m\u001b[39m.\u001b[39mname)\n\u001b[1;32m   1324\u001b[0m \u001b[39mfor\u001b[39;00m temp_arg \u001b[39min\u001b[39;00m temp_args:\n",
      "File \u001b[0;32m~/.local/lib/python3.10/site-packages/py4j/java_gateway.py:1038\u001b[0m, in \u001b[0;36mGatewayClient.send_command\u001b[0;34m(self, command, retry, binary)\u001b[0m\n\u001b[1;32m   1036\u001b[0m connection \u001b[39m=\u001b[39m \u001b[39mself\u001b[39m\u001b[39m.\u001b[39m_get_connection()\n\u001b[1;32m   1037\u001b[0m \u001b[39mtry\u001b[39;00m:\n\u001b[0;32m-> 1038\u001b[0m     response \u001b[39m=\u001b[39m connection\u001b[39m.\u001b[39;49msend_command(command)\n\u001b[1;32m   1039\u001b[0m     \u001b[39mif\u001b[39;00m binary:\n\u001b[1;32m   1040\u001b[0m         \u001b[39mreturn\u001b[39;00m response, \u001b[39mself\u001b[39m\u001b[39m.\u001b[39m_create_connection_guard(connection)\n",
      "File \u001b[0;32m~/.local/lib/python3.10/site-packages/py4j/clientserver.py:511\u001b[0m, in \u001b[0;36mClientServerConnection.send_command\u001b[0;34m(self, command)\u001b[0m\n\u001b[1;32m    509\u001b[0m \u001b[39mtry\u001b[39;00m:\n\u001b[1;32m    510\u001b[0m     \u001b[39mwhile\u001b[39;00m \u001b[39mTrue\u001b[39;00m:\n\u001b[0;32m--> 511\u001b[0m         answer \u001b[39m=\u001b[39m smart_decode(\u001b[39mself\u001b[39;49m\u001b[39m.\u001b[39;49mstream\u001b[39m.\u001b[39;49mreadline()[:\u001b[39m-\u001b[39m\u001b[39m1\u001b[39m])\n\u001b[1;32m    512\u001b[0m         logger\u001b[39m.\u001b[39mdebug(\u001b[39m\"\u001b[39m\u001b[39mAnswer received: \u001b[39m\u001b[39m{0}\u001b[39;00m\u001b[39m\"\u001b[39m\u001b[39m.\u001b[39mformat(answer))\n\u001b[1;32m    513\u001b[0m         \u001b[39m# Happens when a the other end is dead. There might be an empty\u001b[39;00m\n\u001b[1;32m    514\u001b[0m         \u001b[39m# answer before the socket raises an error.\u001b[39;00m\n",
      "File \u001b[0;32m/usr/lib/python3.10/socket.py:705\u001b[0m, in \u001b[0;36mSocketIO.readinto\u001b[0;34m(self, b)\u001b[0m\n\u001b[1;32m    703\u001b[0m \u001b[39mwhile\u001b[39;00m \u001b[39mTrue\u001b[39;00m:\n\u001b[1;32m    704\u001b[0m     \u001b[39mtry\u001b[39;00m:\n\u001b[0;32m--> 705\u001b[0m         \u001b[39mreturn\u001b[39;00m \u001b[39mself\u001b[39;49m\u001b[39m.\u001b[39;49m_sock\u001b[39m.\u001b[39;49mrecv_into(b)\n\u001b[1;32m    706\u001b[0m     \u001b[39mexcept\u001b[39;00m timeout:\n\u001b[1;32m    707\u001b[0m         \u001b[39mself\u001b[39m\u001b[39m.\u001b[39m_timeout_occurred \u001b[39m=\u001b[39m \u001b[39mTrue\u001b[39;00m\n",
      "\u001b[0;31mKeyboardInterrupt\u001b[0m: "
     ]
    },
    {
     "name": "stderr",
     "output_type": "stream",
     "text": [
      "                                                                                \r"
     ]
    }
   ],
   "source": [
    "while True:\n",
    "    messages = consumer.poll(1000)\n",
    "    for tp, message in messages.items():\n",
    "        for record in message:\n",
    "            data = json.loads(record.value)\n",
    "            print(data)\n",
    "            if \"component_info\" in data and data[\"component_info\"] and \"component_type\" in data[\"component_info\"] and data[\"component_info\"][\"component_type\"] and data['temperature'] is not None:\n",
    "                rdd = sc.parallelize([record.value.decode('utf-8')])\n",
    "                process(rdd)\n"
   ]
  }
 ],
 "metadata": {
  "kernelspec": {
   "display_name": "Python 3",
   "language": "python",
   "name": "python3"
  },
  "language_info": {
   "codemirror_mode": {
    "name": "ipython",
    "version": 3
   },
   "file_extension": ".py",
   "mimetype": "text/x-python",
   "name": "python",
   "nbconvert_exporter": "python",
   "pygments_lexer": "ipython3",
   "version": "3.10.7"
  },
  "orig_nbformat": 4,
  "vscode": {
   "interpreter": {
    "hash": "916dbcbb3f70747c44a77c7bcd40155683ae19c65e1c03b4aa3499c5328201f1"
   }
  }
 },
 "nbformat": 4,
 "nbformat_minor": 2
}
