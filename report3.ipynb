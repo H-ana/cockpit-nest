{
 "cells": [
  {
   "cell_type": "code",
   "execution_count": 1,
   "metadata": {},
   "outputs": [],
   "source": [
    "import json\n",
    "from kafka import KafkaConsumer\n",
    "from pyspark import SparkConf, SparkContext\n",
    "from pyspark.sql import SparkSession\n",
    "from datetime import datetime, timedelta\n",
    "from pyspark.sql.functions import from_json, col, when\n",
    "from pyspark.sql.types import StructType, StructField, StringType, IntegerType, TimestampType\n",
    "from pyspark.sql.functions import to_timestamp, from_unixtime, unix_timestamp\n",
    "from pymongo import MongoClient"
   ]
  },
  {
   "cell_type": "code",
   "execution_count": 2,
   "metadata": {},
   "outputs": [
    {
     "name": "stdout",
     "output_type": "stream",
     "text": [
      "23/01/12 15:52:48 WARN Utils: Your hostname, user-hp-pavilion-gaming-laptop-15-ec2xxx resolves to a loopback address: 127.0.1.1; using 192.168.184.92 instead (on interface wlo1)\n",
      "23/01/12 15:52:48 WARN Utils: Set SPARK_LOCAL_IP if you need to bind to another address\n"
     ]
    },
    {
     "name": "stderr",
     "output_type": "stream",
     "text": [
      "Setting default log level to \"WARN\".\n",
      "To adjust logging level use sc.setLogLevel(newLevel). For SparkR, use setLogLevel(newLevel).\n"
     ]
    },
    {
     "name": "stdout",
     "output_type": "stream",
     "text": [
      "23/01/12 15:52:48 WARN NativeCodeLoader: Unable to load native-hadoop library for your platform... using builtin-java classes where applicable\n"
     ]
    }
   ],
   "source": [
    "conf = SparkConf().setAppName(\"TemperatureProcessing\")\n",
    "sc = SparkContext(conf=conf)\n",
    "spark = SparkSession(sc)\n"
   ]
  },
  {
   "cell_type": "code",
   "execution_count": 3,
   "metadata": {},
   "outputs": [],
   "source": [
    "kafkaParams = {\n",
    "    \"bootstrap_servers\": \"ec2-65-0-72-75.ap-south-1.compute.amazonaws.com:9092\"}\n",
    "topic = \"IOTTemperatureStream01\"\n"
   ]
  },
  {
   "cell_type": "code",
   "execution_count": 4,
   "metadata": {},
   "outputs": [],
   "source": [
    "consumer = KafkaConsumer(topic, **kafkaParams)\n"
   ]
  },
  {
   "cell_type": "code",
   "execution_count": 5,
   "metadata": {},
   "outputs": [],
   "source": [
    "df = spark.createDataFrame(spark.sparkContext.emptyRDD(), schema=StructType(\n",
    "    [StructField(\"plant_name\", StringType(), True),\n",
    "        StructField(\"lane_number\", StringType(), True),\n",
    "        StructField(\"temperature\", IntegerType(), True),\n",
    "        StructField(\"timestamp\", TimestampType(), True),\n",
    "        StructField(\"component_type\", StringType(), True),\n",
    "        StructField(\"component_manufacturer\", StringType(), True),\n",
    "     ])\n",
    ")\n"
   ]
  },
  {
   "cell_type": "code",
   "execution_count": 6,
   "metadata": {},
   "outputs": [],
   "source": [
    "def filterData(dataframe):\n",
    "    last_10_minutes = datetime.now() - timedelta(minutes=10)\n",
    "    last_30_minutes= datetime.now() - timedelta(minutes=30)\n",
    "    filtered_max_temp_data = dataframe.filter(dataframe.timestamp < last_30_minutes)\n",
    "    filtered_data = dataframe.filter(dataframe.timestamp > last_10_minutes)\n",
    "    filtered_data = filtered_data.filter(col(\"temperature\") > 50)\n",
    "    component_counts = filtered_data.groupBy(\"component_type\").count()\n",
    "    max_temp_per_lane = filtered_max_temp_data.groupBy(\"lane_number\", \"component_type\").agg(\n",
    "        {\"temperature\": \"max\"}).withColumnRenamed(\"max(temperature)\", \"Max Temp\")\n",
    "    component_counts.show()\n",
    "    max_temp_per_lane.show()"
   ]
  },
  {
   "cell_type": "code",
   "execution_count": 7,
   "metadata": {},
   "outputs": [],
   "source": [
    "def process(rdd):\n",
    "    print(rdd)\n",
    "    global df\n",
    "    data = spark.read.json(rdd)\n",
    "    data = data.filter(data[\"component_info\"].isNotNull())\n",
    "    data = data.filter(data[\"timestamp\"].isNotNull())\n",
    "    if(data.count() > 0):\n",
    "        data = data.withColumn(\"timestamp\", when(col(\"timestamp\").cast(\"double\").isNotNull(\n",
    "        ), col(\"timestamp\").cast(\"double\").cast(\"timestamp\")).otherwise(col(\"timestamp\")))\n",
    "        data = data.withColumn(\"component_manufacturer\",\n",
    "                               data[\"component_info\"][\"component_manufacturer\"])\n",
    "        data = data.withColumn(\n",
    "            \"component_type\", data[\"component_info\"][\"component_type\"])\n",
    "        data = data.drop(\"component_info\")\n",
    "        df=df.union(data)\n",
    "    else:\n",
    "        print(\"No data\")\n",
    "    df.show()\n",
    "    filterData(df)\n"
   ]
  },
  {
   "cell_type": "code",
   "execution_count": 8,
   "metadata": {},
   "outputs": [
    {
     "name": "stdout",
     "output_type": "stream",
     "text": [
      "{'plant_name': 'Plant1', 'lane_number': '1', 'timestamp': '1673518974', 'temperature': '47.93', 'component_info': {'component_type': 'solder_paste_printer', 'component_manufacturer': 'manufact2'}}\n",
      "ParallelCollectionRDD[5] at readRDDFromFile at PythonRDD.scala:274\n"
     ]
    },
    {
     "name": "stderr",
     "output_type": "stream",
     "text": [
      "                                                                                \r"
     ]
    },
    {
     "name": "stdout",
     "output_type": "stream",
     "text": [
      "+----------+-----------+-----------+-------------------+--------------+----------------------+\n",
      "|plant_name|lane_number|temperature|          timestamp|component_type|component_manufacturer|\n",
      "+----------+-----------+-----------+-------------------+--------------+----------------------+\n",
      "|         1|     Plant1|      47.93|2023-01-12 15:52:54|     manufact2|  solder_paste_printer|\n",
      "+----------+-----------+-----------+-------------------+--------------+----------------------+\n",
      "\n",
      "+--------------+-----+\n",
      "|component_type|count|\n",
      "+--------------+-----+\n",
      "+--------------+-----+\n",
      "\n",
      "+-----------+--------------+--------+\n",
      "|lane_number|component_type|Max Temp|\n",
      "+-----------+--------------+--------+\n",
      "+-----------+--------------+--------+\n",
      "\n",
      "{'plant_name': 'Plant2', 'lane_number': '6', 'timestamp': '1673518975', 'temperature': '59.83', 'component_info': {'component_type': 'optical_inspection_module', 'component_manufacturer': 'manufact2'}}\n",
      "ParallelCollectionRDD[40] at readRDDFromFile at PythonRDD.scala:274\n",
      "+----------+-----------+-----------+-------------------+--------------+----------------------+\n",
      "|plant_name|lane_number|temperature|          timestamp|component_type|component_manufacturer|\n",
      "+----------+-----------+-----------+-------------------+--------------+----------------------+\n",
      "|         1|     Plant1|      47.93|2023-01-12 15:52:54|     manufact2|  solder_paste_printer|\n",
      "|         6|     Plant2|      59.83|2023-01-12 15:52:55|     manufact2|  optical_inspectio...|\n",
      "+----------+-----------+-----------+-------------------+--------------+----------------------+\n",
      "\n",
      "+--------------+-----+\n",
      "|component_type|count|\n",
      "+--------------+-----+\n",
      "|     manufact2|    1|\n",
      "+--------------+-----+\n",
      "\n",
      "+-----------+--------------+--------+\n",
      "|lane_number|component_type|Max Temp|\n",
      "+-----------+--------------+--------+\n",
      "+-----------+--------------+--------+\n",
      "\n",
      "{'plant_name': 'Plant4', 'lane_number': '3', 'timestamp': '1673518976', 'temperature': '44.86', 'component_info': {'component_type': 'optical_inspection_module', 'component_manufacturer': 'manufact2'}}\n",
      "ParallelCollectionRDD[81] at readRDDFromFile at PythonRDD.scala:274\n",
      "+----------+-----------+-----------+-------------------+--------------+----------------------+\n",
      "|plant_name|lane_number|temperature|          timestamp|component_type|component_manufacturer|\n",
      "+----------+-----------+-----------+-------------------+--------------+----------------------+\n",
      "|         1|     Plant1|      47.93|2023-01-12 15:52:54|     manufact2|  solder_paste_printer|\n",
      "|         6|     Plant2|      59.83|2023-01-12 15:52:55|     manufact2|  optical_inspectio...|\n",
      "|         3|     Plant4|      44.86|2023-01-12 15:52:56|     manufact2|  optical_inspectio...|\n",
      "+----------+-----------+-----------+-------------------+--------------+----------------------+\n",
      "\n",
      "+--------------+-----+\n",
      "|component_type|count|\n",
      "+--------------+-----+\n",
      "|     manufact2|    1|\n",
      "+--------------+-----+\n",
      "\n",
      "+-----------+--------------+--------+\n",
      "|lane_number|component_type|Max Temp|\n",
      "+-----------+--------------+--------+\n",
      "+-----------+--------------+--------+\n",
      "\n",
      "{'plant_name': 'Plant5', 'lane_number': '1', 'timestamp': '1673518977', 'temperature': '52.44', 'component_info': {'component_type': 'solder_paste_printer', 'component_manufacturer': 'manufact2'}}\n",
      "ParallelCollectionRDD[125] at readRDDFromFile at PythonRDD.scala:274\n",
      "+----------+-----------+-----------+-------------------+--------------+----------------------+\n",
      "|plant_name|lane_number|temperature|          timestamp|component_type|component_manufacturer|\n",
      "+----------+-----------+-----------+-------------------+--------------+----------------------+\n",
      "|         1|     Plant1|      47.93|2023-01-12 15:52:54|     manufact2|  solder_paste_printer|\n",
      "|         6|     Plant2|      59.83|2023-01-12 15:52:55|     manufact2|  optical_inspectio...|\n",
      "|         3|     Plant4|      44.86|2023-01-12 15:52:56|     manufact2|  optical_inspectio...|\n",
      "|         1|     Plant5|      52.44|2023-01-12 15:52:57|     manufact2|  solder_paste_printer|\n",
      "+----------+-----------+-----------+-------------------+--------------+----------------------+\n",
      "\n",
      "+--------------+-----+\n",
      "|component_type|count|\n",
      "+--------------+-----+\n",
      "|     manufact2|    2|\n",
      "+--------------+-----+\n",
      "\n",
      "+-----------+--------------+--------+\n",
      "|lane_number|component_type|Max Temp|\n",
      "+-----------+--------------+--------+\n",
      "+-----------+--------------+--------+\n",
      "\n",
      "{'plant_name': 'Plant4', 'lane_number': '2', 'timestamp': '1673518978', 'temperature': '59.44', 'component_info': {'component_type': 'label_printer', 'component_manufacturer': 'manufact1'}}\n",
      "ParallelCollectionRDD[172] at readRDDFromFile at PythonRDD.scala:274\n",
      "+----------+-----------+-----------+-------------------+--------------+----------------------+\n",
      "|plant_name|lane_number|temperature|          timestamp|component_type|component_manufacturer|\n",
      "+----------+-----------+-----------+-------------------+--------------+----------------------+\n",
      "|         1|     Plant1|      47.93|2023-01-12 15:52:54|     manufact2|  solder_paste_printer|\n",
      "|         6|     Plant2|      59.83|2023-01-12 15:52:55|     manufact2|  optical_inspectio...|\n",
      "|         3|     Plant4|      44.86|2023-01-12 15:52:56|     manufact2|  optical_inspectio...|\n",
      "|         1|     Plant5|      52.44|2023-01-12 15:52:57|     manufact2|  solder_paste_printer|\n",
      "|         2|     Plant4|      59.44|2023-01-12 15:52:58|     manufact1|         label_printer|\n",
      "+----------+-----------+-----------+-------------------+--------------+----------------------+\n",
      "\n",
      "+--------------+-----+\n",
      "|component_type|count|\n",
      "+--------------+-----+\n",
      "|     manufact2|    2|\n",
      "|     manufact1|    1|\n",
      "+--------------+-----+\n",
      "\n",
      "+-----------+--------------+--------+\n",
      "|lane_number|component_type|Max Temp|\n",
      "+-----------+--------------+--------+\n",
      "+-----------+--------------+--------+\n",
      "\n",
      "{'plant_name': 'Plant1', 'lane_number': '3', 'timestamp': '20230112102259', 'temperature': None, 'component_info': {}}\n",
      "{'plant_name': 'Plant3', 'lane_number': '2', 'timestamp': '1673518980', 'temperature': '89.20', 'component_info': {'component_type': 'solder_paste_printer', 'component_manufacturer': 'manufact2'}}\n",
      "ParallelCollectionRDD[222] at readRDDFromFile at PythonRDD.scala:274\n",
      "+----------+-----------+-----------+-------------------+--------------+----------------------+\n",
      "|plant_name|lane_number|temperature|          timestamp|component_type|component_manufacturer|\n",
      "+----------+-----------+-----------+-------------------+--------------+----------------------+\n",
      "|         1|     Plant1|      47.93|2023-01-12 15:52:54|     manufact2|  solder_paste_printer|\n",
      "|         6|     Plant2|      59.83|2023-01-12 15:52:55|     manufact2|  optical_inspectio...|\n",
      "|         3|     Plant4|      44.86|2023-01-12 15:52:56|     manufact2|  optical_inspectio...|\n",
      "|         1|     Plant5|      52.44|2023-01-12 15:52:57|     manufact2|  solder_paste_printer|\n",
      "|         2|     Plant4|      59.44|2023-01-12 15:52:58|     manufact1|         label_printer|\n",
      "|         2|     Plant3|      89.20|2023-01-12 15:53:00|     manufact2|  solder_paste_printer|\n",
      "+----------+-----------+-----------+-------------------+--------------+----------------------+\n",
      "\n",
      "+--------------+-----+\n",
      "|component_type|count|\n",
      "+--------------+-----+\n",
      "|     manufact2|    3|\n",
      "|     manufact1|    1|\n",
      "+--------------+-----+\n",
      "\n",
      "+-----------+--------------+--------+\n",
      "|lane_number|component_type|Max Temp|\n",
      "+-----------+--------------+--------+\n",
      "+-----------+--------------+--------+\n",
      "\n",
      "{'plant_name': 'Plant1', 'lane_number': '3', 'timestamp': '2023-01-12 10:23:01', 'temperature': None, 'component_info': {'component_type': 'solder_paste_printer', 'component_manufacturer': 'manufact1'}}\n",
      "ParallelCollectionRDD[275] at readRDDFromFile at PythonRDD.scala:274\n",
      "+----------+-----------+-----------+-------------------+--------------+----------------------+\n",
      "|plant_name|lane_number|temperature|          timestamp|component_type|component_manufacturer|\n",
      "+----------+-----------+-----------+-------------------+--------------+----------------------+\n",
      "|         1|     Plant1|      47.93|2023-01-12 15:52:54|     manufact2|  solder_paste_printer|\n",
      "|         6|     Plant2|      59.83|2023-01-12 15:52:55|     manufact2|  optical_inspectio...|\n",
      "|         3|     Plant4|      44.86|2023-01-12 15:52:56|     manufact2|  optical_inspectio...|\n",
      "|         1|     Plant5|      52.44|2023-01-12 15:52:57|     manufact2|  solder_paste_printer|\n",
      "|         2|     Plant4|      59.44|2023-01-12 15:52:58|     manufact1|         label_printer|\n",
      "|         2|     Plant3|      89.20|2023-01-12 15:53:00|     manufact2|  solder_paste_printer|\n",
      "|         3|     Plant1|       null|2023-01-12 10:23:01|     manufact1|  solder_paste_printer|\n",
      "+----------+-----------+-----------+-------------------+--------------+----------------------+\n",
      "\n",
      "+--------------+-----+\n",
      "|component_type|count|\n",
      "+--------------+-----+\n",
      "|     manufact2|    3|\n",
      "|     manufact1|    1|\n",
      "+--------------+-----+\n",
      "\n",
      "+-----------+--------------+--------+\n",
      "|lane_number|component_type|Max Temp|\n",
      "+-----------+--------------+--------+\n",
      "|     Plant1|     manufact1|    null|\n",
      "+-----------+--------------+--------+\n",
      "\n",
      "{'plant_name': 'Plant5', 'lane_number': '4', 'timestamp': '1673518982', 'temperature': '59.98', 'component_info': {'component_type': 'solder_paste_printer', 'component_manufacturer': 'manufact1'}}\n",
      "ParallelCollectionRDD[331] at readRDDFromFile at PythonRDD.scala:274\n",
      "+----------+-----------+-----------+-------------------+--------------+----------------------+\n",
      "|plant_name|lane_number|temperature|          timestamp|component_type|component_manufacturer|\n",
      "+----------+-----------+-----------+-------------------+--------------+----------------------+\n",
      "|         1|     Plant1|      47.93|2023-01-12 15:52:54|     manufact2|  solder_paste_printer|\n",
      "|         6|     Plant2|      59.83|2023-01-12 15:52:55|     manufact2|  optical_inspectio...|\n",
      "|         3|     Plant4|      44.86|2023-01-12 15:52:56|     manufact2|  optical_inspectio...|\n",
      "|         1|     Plant5|      52.44|2023-01-12 15:52:57|     manufact2|  solder_paste_printer|\n",
      "|         2|     Plant4|      59.44|2023-01-12 15:52:58|     manufact1|         label_printer|\n",
      "|         2|     Plant3|      89.20|2023-01-12 15:53:00|     manufact2|  solder_paste_printer|\n",
      "|         3|     Plant1|       null|2023-01-12 10:23:01|     manufact1|  solder_paste_printer|\n",
      "|         4|     Plant5|      59.98|2023-01-12 15:53:02|     manufact1|  solder_paste_printer|\n",
      "+----------+-----------+-----------+-------------------+--------------+----------------------+\n",
      "\n"
     ]
    },
    {
     "name": "stderr",
     "output_type": "stream",
     "text": [
      "                                                                                \r"
     ]
    },
    {
     "name": "stdout",
     "output_type": "stream",
     "text": [
      "+--------------+-----+\n",
      "|component_type|count|\n",
      "+--------------+-----+\n",
      "|     manufact2|    3|\n",
      "|     manufact1|    2|\n",
      "+--------------+-----+\n",
      "\n"
     ]
    },
    {
     "name": "stderr",
     "output_type": "stream",
     "text": [
      "                                                                                \r"
     ]
    },
    {
     "name": "stdout",
     "output_type": "stream",
     "text": [
      "+-----------+--------------+--------+\n",
      "|lane_number|component_type|Max Temp|\n",
      "+-----------+--------------+--------+\n",
      "|     Plant1|     manufact1|    null|\n",
      "+-----------+--------------+--------+\n",
      "\n",
      "{'plant_name': 'Plant4', 'lane_number': '6', 'timestamp': '1673518983', 'temperature': '26.26', 'component_info': {'component_type': 'optical_inspection_module', 'component_manufacturer': 'manufact3'}}\n",
      "ParallelCollectionRDD[390] at readRDDFromFile at PythonRDD.scala:274\n",
      "+----------+-----------+-----------+-------------------+--------------+----------------------+\n",
      "|plant_name|lane_number|temperature|          timestamp|component_type|component_manufacturer|\n",
      "+----------+-----------+-----------+-------------------+--------------+----------------------+\n",
      "|         1|     Plant1|      47.93|2023-01-12 15:52:54|     manufact2|  solder_paste_printer|\n",
      "|         6|     Plant2|      59.83|2023-01-12 15:52:55|     manufact2|  optical_inspectio...|\n",
      "|         3|     Plant4|      44.86|2023-01-12 15:52:56|     manufact2|  optical_inspectio...|\n",
      "|         1|     Plant5|      52.44|2023-01-12 15:52:57|     manufact2|  solder_paste_printer|\n",
      "|         2|     Plant4|      59.44|2023-01-12 15:52:58|     manufact1|         label_printer|\n",
      "|         2|     Plant3|      89.20|2023-01-12 15:53:00|     manufact2|  solder_paste_printer|\n",
      "|         3|     Plant1|       null|2023-01-12 10:23:01|     manufact1|  solder_paste_printer|\n",
      "|         4|     Plant5|      59.98|2023-01-12 15:53:02|     manufact1|  solder_paste_printer|\n",
      "|         6|     Plant4|      26.26|2023-01-12 15:53:03|     manufact3|  optical_inspectio...|\n",
      "+----------+-----------+-----------+-------------------+--------------+----------------------+\n",
      "\n"
     ]
    },
    {
     "name": "stderr",
     "output_type": "stream",
     "text": [
      "                                                                                \r"
     ]
    },
    {
     "name": "stdout",
     "output_type": "stream",
     "text": [
      "+--------------+-----+\n",
      "|component_type|count|\n",
      "+--------------+-----+\n",
      "|     manufact2|    3|\n",
      "|     manufact1|    2|\n",
      "+--------------+-----+\n",
      "\n"
     ]
    },
    {
     "name": "stderr",
     "output_type": "stream",
     "text": [
      "                                                                                \r"
     ]
    },
    {
     "name": "stdout",
     "output_type": "stream",
     "text": [
      "+-----------+--------------+--------+\n",
      "|lane_number|component_type|Max Temp|\n",
      "+-----------+--------------+--------+\n",
      "|     Plant1|     manufact1|    null|\n",
      "+-----------+--------------+--------+\n",
      "\n",
      "{'plant_name': 'Plant3', 'lane_number': '2', 'timestamp': '1673518984', 'temperature': '33.94', 'component_info': {'component_type': 'solder_paste_printer', 'component_manufacturer': 'manufact2'}}\n",
      "ParallelCollectionRDD[452] at readRDDFromFile at PythonRDD.scala:274\n",
      "+----------+-----------+-----------+-------------------+--------------+----------------------+\n",
      "|plant_name|lane_number|temperature|          timestamp|component_type|component_manufacturer|\n",
      "+----------+-----------+-----------+-------------------+--------------+----------------------+\n",
      "|         1|     Plant1|      47.93|2023-01-12 15:52:54|     manufact2|  solder_paste_printer|\n",
      "|         6|     Plant2|      59.83|2023-01-12 15:52:55|     manufact2|  optical_inspectio...|\n",
      "|         3|     Plant4|      44.86|2023-01-12 15:52:56|     manufact2|  optical_inspectio...|\n",
      "|         1|     Plant5|      52.44|2023-01-12 15:52:57|     manufact2|  solder_paste_printer|\n",
      "|         2|     Plant4|      59.44|2023-01-12 15:52:58|     manufact1|         label_printer|\n",
      "|         2|     Plant3|      89.20|2023-01-12 15:53:00|     manufact2|  solder_paste_printer|\n",
      "|         3|     Plant1|       null|2023-01-12 10:23:01|     manufact1|  solder_paste_printer|\n",
      "|         4|     Plant5|      59.98|2023-01-12 15:53:02|     manufact1|  solder_paste_printer|\n",
      "|         6|     Plant4|      26.26|2023-01-12 15:53:03|     manufact3|  optical_inspectio...|\n",
      "|         2|     Plant3|      33.94|2023-01-12 15:53:04|     manufact2|  solder_paste_printer|\n",
      "+----------+-----------+-----------+-------------------+--------------+----------------------+\n",
      "\n"
     ]
    },
    {
     "name": "stderr",
     "output_type": "stream",
     "text": [
      "                                                                                \r"
     ]
    },
    {
     "name": "stdout",
     "output_type": "stream",
     "text": [
      "+--------------+-----+\n",
      "|component_type|count|\n",
      "+--------------+-----+\n",
      "|     manufact2|    3|\n",
      "|     manufact1|    2|\n",
      "+--------------+-----+\n",
      "\n"
     ]
    },
    {
     "name": "stderr",
     "output_type": "stream",
     "text": [
      "                                                                                \r"
     ]
    },
    {
     "name": "stdout",
     "output_type": "stream",
     "text": [
      "+-----------+--------------+--------+\n",
      "|lane_number|component_type|Max Temp|\n",
      "+-----------+--------------+--------+\n",
      "|     Plant1|     manufact1|    null|\n",
      "+-----------+--------------+--------+\n",
      "\n",
      "{'plant_name': 'Plant1', 'lane_number': '1', 'timestamp': '1673518985', 'temperature': '30.88', 'component_info': {'component_type': 'solder_paste_printer', 'component_manufacturer': 'manufact2'}}\n",
      "ParallelCollectionRDD[517] at readRDDFromFile at PythonRDD.scala:274\n"
     ]
    },
    {
     "name": "stderr",
     "output_type": "stream",
     "text": [
      "                                                                                \r"
     ]
    },
    {
     "name": "stdout",
     "output_type": "stream",
     "text": [
      "+----------+-----------+-----------+-------------------+--------------+----------------------+\n",
      "|plant_name|lane_number|temperature|          timestamp|component_type|component_manufacturer|\n",
      "+----------+-----------+-----------+-------------------+--------------+----------------------+\n",
      "|         1|     Plant1|      47.93|2023-01-12 15:52:54|     manufact2|  solder_paste_printer|\n",
      "|         6|     Plant2|      59.83|2023-01-12 15:52:55|     manufact2|  optical_inspectio...|\n",
      "|         3|     Plant4|      44.86|2023-01-12 15:52:56|     manufact2|  optical_inspectio...|\n",
      "|         1|     Plant5|      52.44|2023-01-12 15:52:57|     manufact2|  solder_paste_printer|\n",
      "|         2|     Plant4|      59.44|2023-01-12 15:52:58|     manufact1|         label_printer|\n",
      "|         2|     Plant3|      89.20|2023-01-12 15:53:00|     manufact2|  solder_paste_printer|\n",
      "|         3|     Plant1|       null|2023-01-12 10:23:01|     manufact1|  solder_paste_printer|\n",
      "|         4|     Plant5|      59.98|2023-01-12 15:53:02|     manufact1|  solder_paste_printer|\n",
      "|         6|     Plant4|      26.26|2023-01-12 15:53:03|     manufact3|  optical_inspectio...|\n",
      "|         2|     Plant3|      33.94|2023-01-12 15:53:04|     manufact2|  solder_paste_printer|\n",
      "|         1|     Plant1|      30.88|2023-01-12 15:53:05|     manufact2|  solder_paste_printer|\n",
      "+----------+-----------+-----------+-------------------+--------------+----------------------+\n",
      "\n"
     ]
    },
    {
     "name": "stderr",
     "output_type": "stream",
     "text": [
      "                                                                                \r"
     ]
    },
    {
     "name": "stdout",
     "output_type": "stream",
     "text": [
      "+--------------+-----+\n",
      "|component_type|count|\n",
      "+--------------+-----+\n",
      "|     manufact2|    3|\n",
      "|     manufact1|    2|\n",
      "+--------------+-----+\n",
      "\n"
     ]
    },
    {
     "name": "stderr",
     "output_type": "stream",
     "text": [
      "                                                                                \r"
     ]
    },
    {
     "name": "stdout",
     "output_type": "stream",
     "text": [
      "+-----------+--------------+--------+\n",
      "|lane_number|component_type|Max Temp|\n",
      "+-----------+--------------+--------+\n",
      "|     Plant1|     manufact1|    null|\n",
      "+-----------+--------------+--------+\n",
      "\n",
      "{'plant_name': 'Plant2', 'lane_number': '6', 'timestamp': '1673518986', 'temperature': '96.49', 'component_info': {'component_type': 'optical_inspection_module', 'component_manufacturer': 'manufact3'}}\n",
      "ParallelCollectionRDD[585] at readRDDFromFile at PythonRDD.scala:274\n",
      "+----------+-----------+-----------+-------------------+--------------+----------------------+\n",
      "|plant_name|lane_number|temperature|          timestamp|component_type|component_manufacturer|\n",
      "+----------+-----------+-----------+-------------------+--------------+----------------------+\n",
      "|         1|     Plant1|      47.93|2023-01-12 15:52:54|     manufact2|  solder_paste_printer|\n",
      "|         6|     Plant2|      59.83|2023-01-12 15:52:55|     manufact2|  optical_inspectio...|\n",
      "|         3|     Plant4|      44.86|2023-01-12 15:52:56|     manufact2|  optical_inspectio...|\n",
      "|         1|     Plant5|      52.44|2023-01-12 15:52:57|     manufact2|  solder_paste_printer|\n",
      "|         2|     Plant4|      59.44|2023-01-12 15:52:58|     manufact1|         label_printer|\n",
      "|         2|     Plant3|      89.20|2023-01-12 15:53:00|     manufact2|  solder_paste_printer|\n",
      "|         3|     Plant1|       null|2023-01-12 10:23:01|     manufact1|  solder_paste_printer|\n",
      "|         4|     Plant5|      59.98|2023-01-12 15:53:02|     manufact1|  solder_paste_printer|\n",
      "|         6|     Plant4|      26.26|2023-01-12 15:53:03|     manufact3|  optical_inspectio...|\n",
      "|         2|     Plant3|      33.94|2023-01-12 15:53:04|     manufact2|  solder_paste_printer|\n",
      "|         1|     Plant1|      30.88|2023-01-12 15:53:05|     manufact2|  solder_paste_printer|\n",
      "|         6|     Plant2|      96.49|2023-01-12 15:53:06|     manufact3|  optical_inspectio...|\n",
      "+----------+-----------+-----------+-------------------+--------------+----------------------+\n",
      "\n"
     ]
    },
    {
     "name": "stderr",
     "output_type": "stream",
     "text": [
      "                                                                                \r"
     ]
    },
    {
     "name": "stdout",
     "output_type": "stream",
     "text": [
      "+--------------+-----+\n",
      "|component_type|count|\n",
      "+--------------+-----+\n",
      "|     manufact2|    3|\n",
      "|     manufact1|    2|\n",
      "|     manufact3|    1|\n",
      "+--------------+-----+\n",
      "\n"
     ]
    },
    {
     "name": "stderr",
     "output_type": "stream",
     "text": [
      "                                                                                \r"
     ]
    },
    {
     "name": "stdout",
     "output_type": "stream",
     "text": [
      "+-----------+--------------+--------+\n",
      "|lane_number|component_type|Max Temp|\n",
      "+-----------+--------------+--------+\n",
      "|     Plant1|     manufact1|    null|\n",
      "+-----------+--------------+--------+\n",
      "\n",
      "{'plant_name': 'Plant2', 'lane_number': '1', 'timestamp': '20230112102307', 'temperature': None, 'component_info': {}}\n",
      "{'plant_name': 'Plant3', 'lane_number': '5', 'timestamp': '1673518988', 'temperature': '41.99', 'component_info': {'component_type': 'optical_inspection_module', 'component_manufacturer': 'manufact2'}}\n",
      "ParallelCollectionRDD[656] at readRDDFromFile at PythonRDD.scala:274\n",
      "+----------+-----------+-----------+-------------------+--------------+----------------------+\n",
      "|plant_name|lane_number|temperature|          timestamp|component_type|component_manufacturer|\n",
      "+----------+-----------+-----------+-------------------+--------------+----------------------+\n",
      "|         1|     Plant1|      47.93|2023-01-12 15:52:54|     manufact2|  solder_paste_printer|\n",
      "|         6|     Plant2|      59.83|2023-01-12 15:52:55|     manufact2|  optical_inspectio...|\n",
      "|         3|     Plant4|      44.86|2023-01-12 15:52:56|     manufact2|  optical_inspectio...|\n",
      "|         1|     Plant5|      52.44|2023-01-12 15:52:57|     manufact2|  solder_paste_printer|\n",
      "|         2|     Plant4|      59.44|2023-01-12 15:52:58|     manufact1|         label_printer|\n",
      "|         2|     Plant3|      89.20|2023-01-12 15:53:00|     manufact2|  solder_paste_printer|\n",
      "|         3|     Plant1|       null|2023-01-12 10:23:01|     manufact1|  solder_paste_printer|\n",
      "|         4|     Plant5|      59.98|2023-01-12 15:53:02|     manufact1|  solder_paste_printer|\n",
      "|         6|     Plant4|      26.26|2023-01-12 15:53:03|     manufact3|  optical_inspectio...|\n",
      "|         2|     Plant3|      33.94|2023-01-12 15:53:04|     manufact2|  solder_paste_printer|\n",
      "|         1|     Plant1|      30.88|2023-01-12 15:53:05|     manufact2|  solder_paste_printer|\n",
      "|         6|     Plant2|      96.49|2023-01-12 15:53:06|     manufact3|  optical_inspectio...|\n",
      "|         5|     Plant3|      41.99|2023-01-12 15:53:08|     manufact2|  optical_inspectio...|\n",
      "+----------+-----------+-----------+-------------------+--------------+----------------------+\n",
      "\n"
     ]
    },
    {
     "name": "stderr",
     "output_type": "stream",
     "text": [
      "                                                                                \r"
     ]
    },
    {
     "name": "stdout",
     "output_type": "stream",
     "text": [
      "+--------------+-----+\n",
      "|component_type|count|\n",
      "+--------------+-----+\n",
      "|     manufact2|    3|\n",
      "|     manufact1|    2|\n",
      "|     manufact3|    1|\n",
      "+--------------+-----+\n",
      "\n"
     ]
    },
    {
     "name": "stderr",
     "output_type": "stream",
     "text": [
      "                                                                                \r"
     ]
    },
    {
     "name": "stdout",
     "output_type": "stream",
     "text": [
      "+-----------+--------------+--------+\n",
      "|lane_number|component_type|Max Temp|\n",
      "+-----------+--------------+--------+\n",
      "|     Plant1|     manufact1|    null|\n",
      "+-----------+--------------+--------+\n",
      "\n",
      "{'plant_name': 'Plant4', 'lane_number': '1', 'timestamp': '1673518989', 'temperature': '87.10', 'component_info': {'component_type': 'label_printer', 'component_manufacturer': 'manufact1'}}\n",
      "ParallelCollectionRDD[730] at readRDDFromFile at PythonRDD.scala:274\n",
      "+----------+-----------+-----------+-------------------+--------------+----------------------+\n",
      "|plant_name|lane_number|temperature|          timestamp|component_type|component_manufacturer|\n",
      "+----------+-----------+-----------+-------------------+--------------+----------------------+\n",
      "|         1|     Plant1|      47.93|2023-01-12 15:52:54|     manufact2|  solder_paste_printer|\n",
      "|         6|     Plant2|      59.83|2023-01-12 15:52:55|     manufact2|  optical_inspectio...|\n",
      "|         3|     Plant4|      44.86|2023-01-12 15:52:56|     manufact2|  optical_inspectio...|\n",
      "|         1|     Plant5|      52.44|2023-01-12 15:52:57|     manufact2|  solder_paste_printer|\n",
      "|         2|     Plant4|      59.44|2023-01-12 15:52:58|     manufact1|         label_printer|\n",
      "|         2|     Plant3|      89.20|2023-01-12 15:53:00|     manufact2|  solder_paste_printer|\n",
      "|         3|     Plant1|       null|2023-01-12 10:23:01|     manufact1|  solder_paste_printer|\n",
      "|         4|     Plant5|      59.98|2023-01-12 15:53:02|     manufact1|  solder_paste_printer|\n",
      "|         6|     Plant4|      26.26|2023-01-12 15:53:03|     manufact3|  optical_inspectio...|\n",
      "|         2|     Plant3|      33.94|2023-01-12 15:53:04|     manufact2|  solder_paste_printer|\n",
      "|         1|     Plant1|      30.88|2023-01-12 15:53:05|     manufact2|  solder_paste_printer|\n",
      "|         6|     Plant2|      96.49|2023-01-12 15:53:06|     manufact3|  optical_inspectio...|\n",
      "|         5|     Plant3|      41.99|2023-01-12 15:53:08|     manufact2|  optical_inspectio...|\n",
      "|         1|     Plant4|      87.10|2023-01-12 15:53:09|     manufact1|         label_printer|\n",
      "+----------+-----------+-----------+-------------------+--------------+----------------------+\n",
      "\n"
     ]
    },
    {
     "name": "stderr",
     "output_type": "stream",
     "text": [
      "                                                                                \r"
     ]
    },
    {
     "name": "stdout",
     "output_type": "stream",
     "text": [
      "+--------------+-----+\n",
      "|component_type|count|\n",
      "+--------------+-----+\n",
      "|     manufact2|    3|\n",
      "|     manufact1|    3|\n",
      "|     manufact3|    1|\n",
      "+--------------+-----+\n",
      "\n"
     ]
    },
    {
     "name": "stderr",
     "output_type": "stream",
     "text": [
      "                                                                                \r"
     ]
    },
    {
     "name": "stdout",
     "output_type": "stream",
     "text": [
      "+-----------+--------------+--------+\n",
      "|lane_number|component_type|Max Temp|\n",
      "+-----------+--------------+--------+\n",
      "|     Plant1|     manufact1|    null|\n",
      "+-----------+--------------+--------+\n",
      "\n",
      "{'plant_name': 'Plant4', 'lane_number': '4', 'timestamp': '1673518990', 'temperature': '25.09', 'component_info': {'component_type': 'solder_paste_printer', 'component_manufacturer': 'manufact1'}}\n",
      "ParallelCollectionRDD[807] at readRDDFromFile at PythonRDD.scala:274\n"
     ]
    },
    {
     "name": "stderr",
     "output_type": "stream",
     "text": [
      "                                                                                \r"
     ]
    },
    {
     "name": "stdout",
     "output_type": "stream",
     "text": [
      "+----------+-----------+-----------+-------------------+--------------+----------------------+\n",
      "|plant_name|lane_number|temperature|          timestamp|component_type|component_manufacturer|\n",
      "+----------+-----------+-----------+-------------------+--------------+----------------------+\n",
      "|         1|     Plant1|      47.93|2023-01-12 15:52:54|     manufact2|  solder_paste_printer|\n",
      "|         6|     Plant2|      59.83|2023-01-12 15:52:55|     manufact2|  optical_inspectio...|\n",
      "|         3|     Plant4|      44.86|2023-01-12 15:52:56|     manufact2|  optical_inspectio...|\n",
      "|         1|     Plant5|      52.44|2023-01-12 15:52:57|     manufact2|  solder_paste_printer|\n",
      "|         2|     Plant4|      59.44|2023-01-12 15:52:58|     manufact1|         label_printer|\n",
      "|         2|     Plant3|      89.20|2023-01-12 15:53:00|     manufact2|  solder_paste_printer|\n",
      "|         3|     Plant1|       null|2023-01-12 10:23:01|     manufact1|  solder_paste_printer|\n",
      "|         4|     Plant5|      59.98|2023-01-12 15:53:02|     manufact1|  solder_paste_printer|\n",
      "|         6|     Plant4|      26.26|2023-01-12 15:53:03|     manufact3|  optical_inspectio...|\n",
      "|         2|     Plant3|      33.94|2023-01-12 15:53:04|     manufact2|  solder_paste_printer|\n",
      "|         1|     Plant1|      30.88|2023-01-12 15:53:05|     manufact2|  solder_paste_printer|\n",
      "|         6|     Plant2|      96.49|2023-01-12 15:53:06|     manufact3|  optical_inspectio...|\n",
      "|         5|     Plant3|      41.99|2023-01-12 15:53:08|     manufact2|  optical_inspectio...|\n",
      "|         1|     Plant4|      87.10|2023-01-12 15:53:09|     manufact1|         label_printer|\n",
      "|         4|     Plant4|      25.09|2023-01-12 15:53:10|     manufact1|  solder_paste_printer|\n",
      "+----------+-----------+-----------+-------------------+--------------+----------------------+\n",
      "\n"
     ]
    },
    {
     "name": "stderr",
     "output_type": "stream",
     "text": [
      "                                                                                \r"
     ]
    },
    {
     "name": "stdout",
     "output_type": "stream",
     "text": [
      "+--------------+-----+\n",
      "|component_type|count|\n",
      "+--------------+-----+\n",
      "|     manufact2|    3|\n",
      "|     manufact1|    3|\n",
      "|     manufact3|    1|\n",
      "+--------------+-----+\n",
      "\n"
     ]
    },
    {
     "name": "stderr",
     "output_type": "stream",
     "text": [
      "                                                                                \r"
     ]
    },
    {
     "name": "stdout",
     "output_type": "stream",
     "text": [
      "+-----------+--------------+--------+\n",
      "|lane_number|component_type|Max Temp|\n",
      "+-----------+--------------+--------+\n",
      "|     Plant1|     manufact1|    null|\n",
      "+-----------+--------------+--------+\n",
      "\n",
      "{'plant_name': 'Plant2', 'lane_number': '2', 'timestamp': '1673518991', 'temperature': '68.57', 'component_info': {'component_type': 'label_printer', 'component_manufacturer': 'manufact1'}}\n",
      "ParallelCollectionRDD[887] at readRDDFromFile at PythonRDD.scala:274\n"
     ]
    },
    {
     "name": "stderr",
     "output_type": "stream",
     "text": [
      "                                                                                \r"
     ]
    },
    {
     "name": "stdout",
     "output_type": "stream",
     "text": [
      "+----------+-----------+-----------+-------------------+--------------+----------------------+\n",
      "|plant_name|lane_number|temperature|          timestamp|component_type|component_manufacturer|\n",
      "+----------+-----------+-----------+-------------------+--------------+----------------------+\n",
      "|         1|     Plant1|      47.93|2023-01-12 15:52:54|     manufact2|  solder_paste_printer|\n",
      "|         6|     Plant2|      59.83|2023-01-12 15:52:55|     manufact2|  optical_inspectio...|\n",
      "|         3|     Plant4|      44.86|2023-01-12 15:52:56|     manufact2|  optical_inspectio...|\n",
      "|         1|     Plant5|      52.44|2023-01-12 15:52:57|     manufact2|  solder_paste_printer|\n",
      "|         2|     Plant4|      59.44|2023-01-12 15:52:58|     manufact1|         label_printer|\n",
      "|         2|     Plant3|      89.20|2023-01-12 15:53:00|     manufact2|  solder_paste_printer|\n",
      "|         3|     Plant1|       null|2023-01-12 10:23:01|     manufact1|  solder_paste_printer|\n",
      "|         4|     Plant5|      59.98|2023-01-12 15:53:02|     manufact1|  solder_paste_printer|\n",
      "|         6|     Plant4|      26.26|2023-01-12 15:53:03|     manufact3|  optical_inspectio...|\n",
      "|         2|     Plant3|      33.94|2023-01-12 15:53:04|     manufact2|  solder_paste_printer|\n",
      "|         1|     Plant1|      30.88|2023-01-12 15:53:05|     manufact2|  solder_paste_printer|\n",
      "|         6|     Plant2|      96.49|2023-01-12 15:53:06|     manufact3|  optical_inspectio...|\n",
      "|         5|     Plant3|      41.99|2023-01-12 15:53:08|     manufact2|  optical_inspectio...|\n",
      "|         1|     Plant4|      87.10|2023-01-12 15:53:09|     manufact1|         label_printer|\n",
      "|         4|     Plant4|      25.09|2023-01-12 15:53:10|     manufact1|  solder_paste_printer|\n",
      "|         2|     Plant2|      68.57|2023-01-12 15:53:11|     manufact1|         label_printer|\n",
      "+----------+-----------+-----------+-------------------+--------------+----------------------+\n",
      "\n"
     ]
    },
    {
     "name": "stderr",
     "output_type": "stream",
     "text": [
      "                                                                                \r"
     ]
    },
    {
     "name": "stdout",
     "output_type": "stream",
     "text": [
      "+--------------+-----+\n",
      "|component_type|count|\n",
      "+--------------+-----+\n",
      "|     manufact2|    3|\n",
      "|     manufact1|    4|\n",
      "|     manufact3|    1|\n",
      "+--------------+-----+\n",
      "\n"
     ]
    },
    {
     "name": "stderr",
     "output_type": "stream",
     "text": [
      "                                                                                \r"
     ]
    },
    {
     "name": "stdout",
     "output_type": "stream",
     "text": [
      "+-----------+--------------+--------+\n",
      "|lane_number|component_type|Max Temp|\n",
      "+-----------+--------------+--------+\n",
      "|     Plant1|     manufact1|    null|\n",
      "+-----------+--------------+--------+\n",
      "\n",
      "{'plant_name': 'Plant4', 'lane_number': '3', 'timestamp': '1673518992', 'temperature': '33.82', 'component_info': {'component_type': 'label_printer', 'component_manufacturer': 'manufact3'}}\n",
      "ParallelCollectionRDD[970] at readRDDFromFile at PythonRDD.scala:274\n",
      "+----------+-----------+-----------+-------------------+--------------+----------------------+\n",
      "|plant_name|lane_number|temperature|          timestamp|component_type|component_manufacturer|\n",
      "+----------+-----------+-----------+-------------------+--------------+----------------------+\n",
      "|         1|     Plant1|      47.93|2023-01-12 15:52:54|     manufact2|  solder_paste_printer|\n",
      "|         6|     Plant2|      59.83|2023-01-12 15:52:55|     manufact2|  optical_inspectio...|\n",
      "|         3|     Plant4|      44.86|2023-01-12 15:52:56|     manufact2|  optical_inspectio...|\n",
      "|         1|     Plant5|      52.44|2023-01-12 15:52:57|     manufact2|  solder_paste_printer|\n",
      "|         2|     Plant4|      59.44|2023-01-12 15:52:58|     manufact1|         label_printer|\n",
      "|         2|     Plant3|      89.20|2023-01-12 15:53:00|     manufact2|  solder_paste_printer|\n",
      "|         3|     Plant1|       null|2023-01-12 10:23:01|     manufact1|  solder_paste_printer|\n",
      "|         4|     Plant5|      59.98|2023-01-12 15:53:02|     manufact1|  solder_paste_printer|\n",
      "|         6|     Plant4|      26.26|2023-01-12 15:53:03|     manufact3|  optical_inspectio...|\n",
      "|         2|     Plant3|      33.94|2023-01-12 15:53:04|     manufact2|  solder_paste_printer|\n",
      "|         1|     Plant1|      30.88|2023-01-12 15:53:05|     manufact2|  solder_paste_printer|\n",
      "|         6|     Plant2|      96.49|2023-01-12 15:53:06|     manufact3|  optical_inspectio...|\n",
      "|         5|     Plant3|      41.99|2023-01-12 15:53:08|     manufact2|  optical_inspectio...|\n",
      "|         1|     Plant4|      87.10|2023-01-12 15:53:09|     manufact1|         label_printer|\n",
      "|         4|     Plant4|      25.09|2023-01-12 15:53:10|     manufact1|  solder_paste_printer|\n",
      "|         2|     Plant2|      68.57|2023-01-12 15:53:11|     manufact1|         label_printer|\n",
      "|         3|     Plant4|      33.82|2023-01-12 15:53:12|     manufact3|         label_printer|\n",
      "+----------+-----------+-----------+-------------------+--------------+----------------------+\n",
      "\n"
     ]
    },
    {
     "name": "stderr",
     "output_type": "stream",
     "text": [
      "                                                                                \r"
     ]
    },
    {
     "name": "stdout",
     "output_type": "stream",
     "text": [
      "+--------------+-----+\n",
      "|component_type|count|\n",
      "+--------------+-----+\n",
      "|     manufact2|    3|\n",
      "|     manufact1|    4|\n",
      "|     manufact3|    1|\n",
      "+--------------+-----+\n",
      "\n"
     ]
    },
    {
     "name": "stderr",
     "output_type": "stream",
     "text": [
      "                                                                                \r"
     ]
    },
    {
     "name": "stdout",
     "output_type": "stream",
     "text": [
      "+-----------+--------------+--------+\n",
      "|lane_number|component_type|Max Temp|\n",
      "+-----------+--------------+--------+\n",
      "|     Plant1|     manufact1|    null|\n",
      "+-----------+--------------+--------+\n",
      "\n",
      "{'plant_name': 'Plant4', 'lane_number': '4', 'timestamp': '1673518993', 'temperature': '87.19', 'component_info': {'component_type': 'solder_paste_printer', 'component_manufacturer': 'manufact1'}}\n",
      "ParallelCollectionRDD[1056] at readRDDFromFile at PythonRDD.scala:274\n"
     ]
    },
    {
     "name": "stderr",
     "output_type": "stream",
     "text": [
      "                                                                                \r"
     ]
    },
    {
     "name": "stdout",
     "output_type": "stream",
     "text": [
      "+----------+-----------+-----------+-------------------+--------------+----------------------+\n",
      "|plant_name|lane_number|temperature|          timestamp|component_type|component_manufacturer|\n",
      "+----------+-----------+-----------+-------------------+--------------+----------------------+\n",
      "|         1|     Plant1|      47.93|2023-01-12 15:52:54|     manufact2|  solder_paste_printer|\n",
      "|         6|     Plant2|      59.83|2023-01-12 15:52:55|     manufact2|  optical_inspectio...|\n",
      "|         3|     Plant4|      44.86|2023-01-12 15:52:56|     manufact2|  optical_inspectio...|\n",
      "|         1|     Plant5|      52.44|2023-01-12 15:52:57|     manufact2|  solder_paste_printer|\n",
      "|         2|     Plant4|      59.44|2023-01-12 15:52:58|     manufact1|         label_printer|\n",
      "|         2|     Plant3|      89.20|2023-01-12 15:53:00|     manufact2|  solder_paste_printer|\n",
      "|         3|     Plant1|       null|2023-01-12 10:23:01|     manufact1|  solder_paste_printer|\n",
      "|         4|     Plant5|      59.98|2023-01-12 15:53:02|     manufact1|  solder_paste_printer|\n",
      "|         6|     Plant4|      26.26|2023-01-12 15:53:03|     manufact3|  optical_inspectio...|\n",
      "|         2|     Plant3|      33.94|2023-01-12 15:53:04|     manufact2|  solder_paste_printer|\n",
      "|         1|     Plant1|      30.88|2023-01-12 15:53:05|     manufact2|  solder_paste_printer|\n",
      "|         6|     Plant2|      96.49|2023-01-12 15:53:06|     manufact3|  optical_inspectio...|\n",
      "|         5|     Plant3|      41.99|2023-01-12 15:53:08|     manufact2|  optical_inspectio...|\n",
      "|         1|     Plant4|      87.10|2023-01-12 15:53:09|     manufact1|         label_printer|\n",
      "|         4|     Plant4|      25.09|2023-01-12 15:53:10|     manufact1|  solder_paste_printer|\n",
      "|         2|     Plant2|      68.57|2023-01-12 15:53:11|     manufact1|         label_printer|\n",
      "|         3|     Plant4|      33.82|2023-01-12 15:53:12|     manufact3|         label_printer|\n",
      "|         4|     Plant4|      87.19|2023-01-12 15:53:13|     manufact1|  solder_paste_printer|\n",
      "+----------+-----------+-----------+-------------------+--------------+----------------------+\n",
      "\n"
     ]
    },
    {
     "name": "stderr",
     "output_type": "stream",
     "text": [
      "                                                                                \r"
     ]
    },
    {
     "name": "stdout",
     "output_type": "stream",
     "text": [
      "+--------------+-----+\n",
      "|component_type|count|\n",
      "+--------------+-----+\n",
      "|     manufact2|    3|\n",
      "|     manufact1|    5|\n",
      "|     manufact3|    1|\n",
      "+--------------+-----+\n",
      "\n"
     ]
    },
    {
     "name": "stderr",
     "output_type": "stream",
     "text": [
      "                                                                                \r"
     ]
    },
    {
     "name": "stdout",
     "output_type": "stream",
     "text": [
      "+-----------+--------------+--------+\n",
      "|lane_number|component_type|Max Temp|\n",
      "+-----------+--------------+--------+\n",
      "|     Plant1|     manufact1|    null|\n",
      "+-----------+--------------+--------+\n",
      "\n",
      "{'plant_name': 'Plant2', 'lane_number': '1', 'timestamp': '1673518994', 'temperature': '78.51', 'component_info': {'component_type': 'label_printer', 'component_manufacturer': 'manufact1'}}\n",
      "ParallelCollectionRDD[1145] at readRDDFromFile at PythonRDD.scala:274\n"
     ]
    },
    {
     "name": "stderr",
     "output_type": "stream",
     "text": [
      "                                                                                \r"
     ]
    },
    {
     "name": "stdout",
     "output_type": "stream",
     "text": [
      "+----------+-----------+-----------+-------------------+--------------+----------------------+\n",
      "|plant_name|lane_number|temperature|          timestamp|component_type|component_manufacturer|\n",
      "+----------+-----------+-----------+-------------------+--------------+----------------------+\n",
      "|         1|     Plant1|      47.93|2023-01-12 15:52:54|     manufact2|  solder_paste_printer|\n",
      "|         6|     Plant2|      59.83|2023-01-12 15:52:55|     manufact2|  optical_inspectio...|\n",
      "|         3|     Plant4|      44.86|2023-01-12 15:52:56|     manufact2|  optical_inspectio...|\n",
      "|         1|     Plant5|      52.44|2023-01-12 15:52:57|     manufact2|  solder_paste_printer|\n",
      "|         2|     Plant4|      59.44|2023-01-12 15:52:58|     manufact1|         label_printer|\n",
      "|         2|     Plant3|      89.20|2023-01-12 15:53:00|     manufact2|  solder_paste_printer|\n",
      "|         3|     Plant1|       null|2023-01-12 10:23:01|     manufact1|  solder_paste_printer|\n",
      "|         4|     Plant5|      59.98|2023-01-12 15:53:02|     manufact1|  solder_paste_printer|\n",
      "|         6|     Plant4|      26.26|2023-01-12 15:53:03|     manufact3|  optical_inspectio...|\n",
      "|         2|     Plant3|      33.94|2023-01-12 15:53:04|     manufact2|  solder_paste_printer|\n",
      "|         1|     Plant1|      30.88|2023-01-12 15:53:05|     manufact2|  solder_paste_printer|\n",
      "|         6|     Plant2|      96.49|2023-01-12 15:53:06|     manufact3|  optical_inspectio...|\n",
      "|         5|     Plant3|      41.99|2023-01-12 15:53:08|     manufact2|  optical_inspectio...|\n",
      "|         1|     Plant4|      87.10|2023-01-12 15:53:09|     manufact1|         label_printer|\n",
      "|         4|     Plant4|      25.09|2023-01-12 15:53:10|     manufact1|  solder_paste_printer|\n",
      "|         2|     Plant2|      68.57|2023-01-12 15:53:11|     manufact1|         label_printer|\n",
      "|         3|     Plant4|      33.82|2023-01-12 15:53:12|     manufact3|         label_printer|\n",
      "|         4|     Plant4|      87.19|2023-01-12 15:53:13|     manufact1|  solder_paste_printer|\n",
      "|         1|     Plant2|      78.51|2023-01-12 15:53:14|     manufact1|         label_printer|\n",
      "+----------+-----------+-----------+-------------------+--------------+----------------------+\n",
      "\n"
     ]
    },
    {
     "name": "stderr",
     "output_type": "stream",
     "text": [
      "                                                                                \r"
     ]
    },
    {
     "name": "stdout",
     "output_type": "stream",
     "text": [
      "+--------------+-----+\n",
      "|component_type|count|\n",
      "+--------------+-----+\n",
      "|     manufact2|    3|\n",
      "|     manufact1|    6|\n",
      "|     manufact3|    1|\n",
      "+--------------+-----+\n",
      "\n"
     ]
    },
    {
     "name": "stderr",
     "output_type": "stream",
     "text": [
      "                                                                                \r"
     ]
    },
    {
     "name": "stdout",
     "output_type": "stream",
     "text": [
      "+-----------+--------------+--------+\n",
      "|lane_number|component_type|Max Temp|\n",
      "+-----------+--------------+--------+\n",
      "|     Plant1|     manufact1|    null|\n",
      "+-----------+--------------+--------+\n",
      "\n",
      "{'plant_name': 'Plant5', 'lane_number': '2', 'timestamp': '1673518995', 'temperature': '48.61', 'component_info': {'component_type': 'label_printer', 'component_manufacturer': 'manufact1'}}\n",
      "ParallelCollectionRDD[1237] at readRDDFromFile at PythonRDD.scala:274\n"
     ]
    },
    {
     "name": "stderr",
     "output_type": "stream",
     "text": [
      "                                                                                \r"
     ]
    },
    {
     "name": "stdout",
     "output_type": "stream",
     "text": [
      "+----------+-----------+-----------+-------------------+--------------+----------------------+\n",
      "|plant_name|lane_number|temperature|          timestamp|component_type|component_manufacturer|\n",
      "+----------+-----------+-----------+-------------------+--------------+----------------------+\n",
      "|         1|     Plant1|      47.93|2023-01-12 15:52:54|     manufact2|  solder_paste_printer|\n",
      "|         6|     Plant2|      59.83|2023-01-12 15:52:55|     manufact2|  optical_inspectio...|\n",
      "|         3|     Plant4|      44.86|2023-01-12 15:52:56|     manufact2|  optical_inspectio...|\n",
      "|         1|     Plant5|      52.44|2023-01-12 15:52:57|     manufact2|  solder_paste_printer|\n",
      "|         2|     Plant4|      59.44|2023-01-12 15:52:58|     manufact1|         label_printer|\n",
      "|         2|     Plant3|      89.20|2023-01-12 15:53:00|     manufact2|  solder_paste_printer|\n",
      "|         3|     Plant1|       null|2023-01-12 10:23:01|     manufact1|  solder_paste_printer|\n",
      "|         4|     Plant5|      59.98|2023-01-12 15:53:02|     manufact1|  solder_paste_printer|\n",
      "|         6|     Plant4|      26.26|2023-01-12 15:53:03|     manufact3|  optical_inspectio...|\n",
      "|         2|     Plant3|      33.94|2023-01-12 15:53:04|     manufact2|  solder_paste_printer|\n",
      "|         1|     Plant1|      30.88|2023-01-12 15:53:05|     manufact2|  solder_paste_printer|\n",
      "|         6|     Plant2|      96.49|2023-01-12 15:53:06|     manufact3|  optical_inspectio...|\n",
      "|         5|     Plant3|      41.99|2023-01-12 15:53:08|     manufact2|  optical_inspectio...|\n",
      "|         1|     Plant4|      87.10|2023-01-12 15:53:09|     manufact1|         label_printer|\n",
      "|         4|     Plant4|      25.09|2023-01-12 15:53:10|     manufact1|  solder_paste_printer|\n",
      "|         2|     Plant2|      68.57|2023-01-12 15:53:11|     manufact1|         label_printer|\n",
      "|         3|     Plant4|      33.82|2023-01-12 15:53:12|     manufact3|         label_printer|\n",
      "|         4|     Plant4|      87.19|2023-01-12 15:53:13|     manufact1|  solder_paste_printer|\n",
      "|         1|     Plant2|      78.51|2023-01-12 15:53:14|     manufact1|         label_printer|\n",
      "|         2|     Plant5|      48.61|2023-01-12 15:53:15|     manufact1|         label_printer|\n",
      "+----------+-----------+-----------+-------------------+--------------+----------------------+\n",
      "\n"
     ]
    },
    {
     "name": "stderr",
     "output_type": "stream",
     "text": [
      "                                                                                \r"
     ]
    },
    {
     "name": "stdout",
     "output_type": "stream",
     "text": [
      "+--------------+-----+\n",
      "|component_type|count|\n",
      "+--------------+-----+\n",
      "|     manufact2|    3|\n",
      "|     manufact1|    6|\n",
      "|     manufact3|    1|\n",
      "+--------------+-----+\n",
      "\n"
     ]
    },
    {
     "name": "stderr",
     "output_type": "stream",
     "text": [
      "                                                                                \r"
     ]
    },
    {
     "name": "stdout",
     "output_type": "stream",
     "text": [
      "+-----------+--------------+--------+\n",
      "|lane_number|component_type|Max Temp|\n",
      "+-----------+--------------+--------+\n",
      "|     Plant1|     manufact1|    null|\n",
      "+-----------+--------------+--------+\n",
      "\n",
      "{'plant_name': 'Plant4', 'lane_number': '8', 'timestamp': '2023/01/12 10:23:16', 'temperature': '79.24', 'component_info': {}}\n",
      "{'plant_name': 'Plant1', 'lane_number': '4', 'timestamp': '1673518997', 'temperature': '98.82', 'component_info': {'component_type': 'optical_inspection_module', 'component_manufacturer': 'manufact2'}}\n",
      "ParallelCollectionRDD[1332] at readRDDFromFile at PythonRDD.scala:274\n"
     ]
    },
    {
     "name": "stderr",
     "output_type": "stream",
     "text": [
      "ERROR:root:KeyboardInterrupt while sending command.\n",
      "Traceback (most recent call last):\n",
      "  File \"/home/user/.local/lib/python3.10/site-packages/py4j/java_gateway.py\", line 1038, in send_command\n",
      "    response = connection.send_command(command)\n",
      "  File \"/home/user/.local/lib/python3.10/site-packages/py4j/clientserver.py\", line 511, in send_command\n",
      "    answer = smart_decode(self.stream.readline()[:-1])\n",
      "  File \"/usr/lib/python3.10/socket.py\", line 705, in readinto\n",
      "    return self._sock.recv_into(b)\n",
      "KeyboardInterrupt\n"
     ]
    },
    {
     "ename": "KeyboardInterrupt",
     "evalue": "",
     "output_type": "error",
     "traceback": [
      "\u001b[0;31m---------------------------------------------------------------------------\u001b[0m",
      "\u001b[0;31mKeyboardInterrupt\u001b[0m                         Traceback (most recent call last)",
      "Cell \u001b[0;32mIn[8], line 9\u001b[0m\n\u001b[1;32m      7\u001b[0m \u001b[39mif\u001b[39;00m \u001b[39m\"\u001b[39m\u001b[39mcomponent_info\u001b[39m\u001b[39m\"\u001b[39m \u001b[39min\u001b[39;00m data \u001b[39mand\u001b[39;00m data[\u001b[39m\"\u001b[39m\u001b[39mcomponent_info\u001b[39m\u001b[39m\"\u001b[39m] \u001b[39mand\u001b[39;00m \u001b[39m\"\u001b[39m\u001b[39mcomponent_type\u001b[39m\u001b[39m\"\u001b[39m \u001b[39min\u001b[39;00m data[\u001b[39m\"\u001b[39m\u001b[39mcomponent_info\u001b[39m\u001b[39m\"\u001b[39m] \u001b[39mand\u001b[39;00m data[\u001b[39m\"\u001b[39m\u001b[39mcomponent_info\u001b[39m\u001b[39m\"\u001b[39m][\u001b[39m\"\u001b[39m\u001b[39mcomponent_type\u001b[39m\u001b[39m\"\u001b[39m] \u001b[39mis\u001b[39;00m \u001b[39mnot\u001b[39;00m \u001b[39mNone\u001b[39;00m:\n\u001b[1;32m      8\u001b[0m     rdd \u001b[39m=\u001b[39m sc\u001b[39m.\u001b[39mparallelize([record\u001b[39m.\u001b[39mvalue\u001b[39m.\u001b[39mdecode(\u001b[39m'\u001b[39m\u001b[39mutf-8\u001b[39m\u001b[39m'\u001b[39m)])\n\u001b[0;32m----> 9\u001b[0m     process(rdd)\n",
      "Cell \u001b[0;32mIn[7], line 18\u001b[0m, in \u001b[0;36mprocess\u001b[0;34m(rdd)\u001b[0m\n\u001b[1;32m     16\u001b[0m \u001b[39melse\u001b[39;00m:\n\u001b[1;32m     17\u001b[0m     \u001b[39mprint\u001b[39m(\u001b[39m\"\u001b[39m\u001b[39mNo data\u001b[39m\u001b[39m\"\u001b[39m)\n\u001b[0;32m---> 18\u001b[0m df\u001b[39m.\u001b[39;49mshow()\n\u001b[1;32m     19\u001b[0m filterData(df)\n",
      "File \u001b[0;32m~/.local/lib/python3.10/site-packages/pyspark/sql/dataframe.py:606\u001b[0m, in \u001b[0;36mDataFrame.show\u001b[0;34m(self, n, truncate, vertical)\u001b[0m\n\u001b[1;32m    603\u001b[0m     \u001b[39mraise\u001b[39;00m \u001b[39mTypeError\u001b[39;00m(\u001b[39m\"\u001b[39m\u001b[39mParameter \u001b[39m\u001b[39m'\u001b[39m\u001b[39mvertical\u001b[39m\u001b[39m'\u001b[39m\u001b[39m must be a bool\u001b[39m\u001b[39m\"\u001b[39m)\n\u001b[1;32m    605\u001b[0m \u001b[39mif\u001b[39;00m \u001b[39misinstance\u001b[39m(truncate, \u001b[39mbool\u001b[39m) \u001b[39mand\u001b[39;00m truncate:\n\u001b[0;32m--> 606\u001b[0m     \u001b[39mprint\u001b[39m(\u001b[39mself\u001b[39;49m\u001b[39m.\u001b[39;49m_jdf\u001b[39m.\u001b[39;49mshowString(n, \u001b[39m20\u001b[39;49m, vertical))\n\u001b[1;32m    607\u001b[0m \u001b[39melse\u001b[39;00m:\n\u001b[1;32m    608\u001b[0m     \u001b[39mtry\u001b[39;00m:\n",
      "File \u001b[0;32m~/.local/lib/python3.10/site-packages/py4j/java_gateway.py:1320\u001b[0m, in \u001b[0;36mJavaMember.__call__\u001b[0;34m(self, *args)\u001b[0m\n\u001b[1;32m   1313\u001b[0m args_command, temp_args \u001b[39m=\u001b[39m \u001b[39mself\u001b[39m\u001b[39m.\u001b[39m_build_args(\u001b[39m*\u001b[39margs)\n\u001b[1;32m   1315\u001b[0m command \u001b[39m=\u001b[39m proto\u001b[39m.\u001b[39mCALL_COMMAND_NAME \u001b[39m+\u001b[39m\\\n\u001b[1;32m   1316\u001b[0m     \u001b[39mself\u001b[39m\u001b[39m.\u001b[39mcommand_header \u001b[39m+\u001b[39m\\\n\u001b[1;32m   1317\u001b[0m     args_command \u001b[39m+\u001b[39m\\\n\u001b[1;32m   1318\u001b[0m     proto\u001b[39m.\u001b[39mEND_COMMAND_PART\n\u001b[0;32m-> 1320\u001b[0m answer \u001b[39m=\u001b[39m \u001b[39mself\u001b[39;49m\u001b[39m.\u001b[39;49mgateway_client\u001b[39m.\u001b[39;49msend_command(command)\n\u001b[1;32m   1321\u001b[0m return_value \u001b[39m=\u001b[39m get_return_value(\n\u001b[1;32m   1322\u001b[0m     answer, \u001b[39mself\u001b[39m\u001b[39m.\u001b[39mgateway_client, \u001b[39mself\u001b[39m\u001b[39m.\u001b[39mtarget_id, \u001b[39mself\u001b[39m\u001b[39m.\u001b[39mname)\n\u001b[1;32m   1324\u001b[0m \u001b[39mfor\u001b[39;00m temp_arg \u001b[39min\u001b[39;00m temp_args:\n",
      "File \u001b[0;32m~/.local/lib/python3.10/site-packages/py4j/java_gateway.py:1038\u001b[0m, in \u001b[0;36mGatewayClient.send_command\u001b[0;34m(self, command, retry, binary)\u001b[0m\n\u001b[1;32m   1036\u001b[0m connection \u001b[39m=\u001b[39m \u001b[39mself\u001b[39m\u001b[39m.\u001b[39m_get_connection()\n\u001b[1;32m   1037\u001b[0m \u001b[39mtry\u001b[39;00m:\n\u001b[0;32m-> 1038\u001b[0m     response \u001b[39m=\u001b[39m connection\u001b[39m.\u001b[39;49msend_command(command)\n\u001b[1;32m   1039\u001b[0m     \u001b[39mif\u001b[39;00m binary:\n\u001b[1;32m   1040\u001b[0m         \u001b[39mreturn\u001b[39;00m response, \u001b[39mself\u001b[39m\u001b[39m.\u001b[39m_create_connection_guard(connection)\n",
      "File \u001b[0;32m~/.local/lib/python3.10/site-packages/py4j/clientserver.py:511\u001b[0m, in \u001b[0;36mClientServerConnection.send_command\u001b[0;34m(self, command)\u001b[0m\n\u001b[1;32m    509\u001b[0m \u001b[39mtry\u001b[39;00m:\n\u001b[1;32m    510\u001b[0m     \u001b[39mwhile\u001b[39;00m \u001b[39mTrue\u001b[39;00m:\n\u001b[0;32m--> 511\u001b[0m         answer \u001b[39m=\u001b[39m smart_decode(\u001b[39mself\u001b[39;49m\u001b[39m.\u001b[39;49mstream\u001b[39m.\u001b[39;49mreadline()[:\u001b[39m-\u001b[39m\u001b[39m1\u001b[39m])\n\u001b[1;32m    512\u001b[0m         logger\u001b[39m.\u001b[39mdebug(\u001b[39m\"\u001b[39m\u001b[39mAnswer received: \u001b[39m\u001b[39m{0}\u001b[39;00m\u001b[39m\"\u001b[39m\u001b[39m.\u001b[39mformat(answer))\n\u001b[1;32m    513\u001b[0m         \u001b[39m# Happens when a the other end is dead. There might be an empty\u001b[39;00m\n\u001b[1;32m    514\u001b[0m         \u001b[39m# answer before the socket raises an error.\u001b[39;00m\n",
      "File \u001b[0;32m/usr/lib/python3.10/socket.py:705\u001b[0m, in \u001b[0;36mSocketIO.readinto\u001b[0;34m(self, b)\u001b[0m\n\u001b[1;32m    703\u001b[0m \u001b[39mwhile\u001b[39;00m \u001b[39mTrue\u001b[39;00m:\n\u001b[1;32m    704\u001b[0m     \u001b[39mtry\u001b[39;00m:\n\u001b[0;32m--> 705\u001b[0m         \u001b[39mreturn\u001b[39;00m \u001b[39mself\u001b[39;49m\u001b[39m.\u001b[39;49m_sock\u001b[39m.\u001b[39;49mrecv_into(b)\n\u001b[1;32m    706\u001b[0m     \u001b[39mexcept\u001b[39;00m timeout:\n\u001b[1;32m    707\u001b[0m         \u001b[39mself\u001b[39m\u001b[39m.\u001b[39m_timeout_occurred \u001b[39m=\u001b[39m \u001b[39mTrue\u001b[39;00m\n",
      "\u001b[0;31mKeyboardInterrupt\u001b[0m: "
     ]
    },
    {
     "name": "stderr",
     "output_type": "stream",
     "text": [
      "                                                                                \r"
     ]
    }
   ],
   "source": [
    "while True:\n",
    "    messages = consumer.poll(1000)\n",
    "    for tp, message in messages.items():\n",
    "        for record in message:\n",
    "            data = json.loads(record.value)\n",
    "            print(data)\n",
    "            if \"component_info\" in data and data[\"component_info\"] and \"component_type\" in data[\"component_info\"] and data[\"component_info\"][\"component_type\"] and data['temperature'] is not None:\n",
    "                rdd = sc.parallelize([record.value.decode('utf-8')])\n",
    "                process(rdd)\n"
   ]
  }
 ],
 "metadata": {
  "kernelspec": {
   "display_name": "Python 3",
   "language": "python",
   "name": "python3"
  },
  "language_info": {
   "codemirror_mode": {
    "name": "ipython",
    "version": 3
   },
   "file_extension": ".py",
   "mimetype": "text/x-python",
   "name": "python",
   "nbconvert_exporter": "python",
   "pygments_lexer": "ipython3",
   "version": "3.10.7"
  },
  "orig_nbformat": 4,
  "vscode": {
   "interpreter": {
    "hash": "916dbcbb3f70747c44a77c7bcd40155683ae19c65e1c03b4aa3499c5328201f1"
   }
  }
 },
 "nbformat": 4,
 "nbformat_minor": 2
}
