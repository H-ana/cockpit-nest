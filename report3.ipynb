{
 "cells": [
  {
   "cell_type": "code",
   "execution_count": null,
   "metadata": {},
   "outputs": [],
   "source": [
    "import json\n",
    "from kafka import KafkaConsumer\n",
    "from pyspark import SparkConf, SparkContext\n",
    "from pyspark.sql import SparkSession\n",
    "from datetime import datetime, timedelta\n",
    "from pyspark.sql.functions import from_json, col, when\n",
    "from pyspark.sql.types import StructType, StructField, StringType, IntegerType, TimestampType\n",
    "from pyspark.sql.functions import to_timestamp, from_unixtime, unix_timestamp\n",
    "from pymongo import MongoClient"
   ]
  },
  {
   "cell_type": "code",
   "execution_count": null,
   "metadata": {},
   "outputs": [],
   "source": [
    "conf = SparkConf().setAppName(\"TemperatureProcessing\")\n",
    "sc = SparkContext(conf=conf)\n",
    "spark = SparkSession(sc)\n"
   ]
  },
  {
   "cell_type": "code",
   "execution_count": null,
   "metadata": {},
   "outputs": [],
   "source": [
    "kafkaParams = {\n",
    "    \"bootstrap_servers\": \"ec2-65-0-72-75.ap-south-1.compute.amazonaws.com:9092\"}\n",
    "topic = \"IOTTemperatureStream01\"\n"
   ]
  },
  {
   "cell_type": "code",
   "execution_count": null,
   "metadata": {},
   "outputs": [],
   "source": [
    "consumer = KafkaConsumer(topic, **kafkaParams)\n"
   ]
  },
  {
   "cell_type": "code",
   "execution_count": null,
   "metadata": {},
   "outputs": [],
   "source": [
    "df = spark.createDataFrame([], schema=StructType(\n",
    "    [StructField(\"plant_name\", StringType(), True),\n",
    "        StructField(\"lane_number\", StringType(), True),\n",
    "        StructField(\"timestamp\", TimestampType(), True),\n",
    "        StructField(\"temperature\", IntegerType(), True),\n",
    "        StructField(\"component_type\", StringType(), True),\n",
    "        StructField(\"component_manufacturer\", StringType(), True),\n",
    "     ])\n",
    ")\n"
   ]
  },
  {
   "cell_type": "code",
   "execution_count": null,
   "metadata": {},
   "outputs": [],
   "source": [
    "def filterData(dataframe):\n",
    "    last_10_minutes = datetime.now() - timedelta(minutes=10)\n",
    "    last_30_minutes= datetime.now() - timedelta(minutes=30)\n",
    "    filtered_max_temp_data = dataframe.filter(dataframe.timestamp < last_30_minutes)\n",
    "    filtered_data = dataframe.filter(dataframe.timestamp > last_10_minutes)\n",
    "    filtered_data = filtered_data.filter(col(\"temperature\") > 50)\n",
    "    component_counts = filtered_data.groupBy(\"component_type\").count()\n",
    "    max_temp_per_lane = filtered_max_temp_data.groupBy(\"lane_number\", \"component_type\").agg(\n",
    "        {\"temperature\": \"max\"}).withColumnRenamed(\"max(temperature)\", \"Max Temp\")\n",
    "    component_counts.show()\n",
    "    max_temp_per_lane.show()"
   ]
  },
  {
   "cell_type": "code",
   "execution_count": null,
   "metadata": {},
   "outputs": [],
   "source": [
    "def process(rdd):\n",
    "    print(rdd)\n",
    "    data = spark.read.json(rdd)\n",
    "    data = data.filter(data[\"component_info\"].isNotNull())\n",
    "    data = data.filter(data[\"timestamp\"].isNotNull())\n",
    "    if(data.count() > 0):\n",
    "        data = data.withColumn(\"timestamp\", when(col(\"timestamp\").cast(\"double\").isNotNull(\n",
    "        ), col(\"timestamp\").cast(\"double\").cast(\"timestamp\")).otherwise(col(\"timestamp\")))\n",
    "        data = data.withColumn(\"component_manufacturer\",\n",
    "                               data[\"component_info\"][\"component_manufacturer\"])\n",
    "        data = data.withColumn(\n",
    "            \"component_type\", data[\"component_info\"][\"component_type\"])\n",
    "        data = data.drop(\"component_info\")\n",
    "        df=df.union(data)\n",
    "    else:\n",
    "        print(\"No data\")\n",
    "    df.show()\n",
    "    filterData(df)\n"
   ]
  },
  {
   "cell_type": "code",
   "execution_count": null,
   "metadata": {},
   "outputs": [],
   "source": [
    "while True:\n",
    "    messages = consumer.poll(1000)\n",
    "    for tp, message in messages.items():\n",
    "        for record in message:\n",
    "            data = json.loads(record.value)\n",
    "            print(data)\n",
    "            if \"component_info\" in data and data[\"component_info\"] and \"component_type\" in data[\"component_info\"] and data[\"component_info\"][\"component_type\"] is not None:\n",
    "                rdd = sc.parallelize([record.value.decode('utf-8')])\n",
    "                process(rdd)\n"
   ]
  }
 ],
 "metadata": {
  "kernelspec": {
   "display_name": "Python 3",
   "language": "python",
   "name": "python3"
  },
  "language_info": {
   "codemirror_mode": {
    "name": "ipython",
    "version": 3
   },
   "file_extension": ".py",
   "mimetype": "text/x-python",
   "name": "python",
   "nbconvert_exporter": "python",
   "pygments_lexer": "ipython3",
   "version": "3.10.7"
  },
  "orig_nbformat": 4,
  "vscode": {
   "interpreter": {
    "hash": "916dbcbb3f70747c44a77c7bcd40155683ae19c65e1c03b4aa3499c5328201f1"
   }
  }
 },
 "nbformat": 4,
 "nbformat_minor": 2
}
